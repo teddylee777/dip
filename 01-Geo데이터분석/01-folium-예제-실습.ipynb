{
 "cells": [
  {
   "cell_type": "markdown",
   "id": "0fd2f7ae",
   "metadata": {},
   "source": [
    "## 한글 폰트 설치\n",
    "\n",
    "- 참고: https://teddylee777.github.io/colab/colab-korean"
   ]
  },
  {
   "cell_type": "code",
   "execution_count": null,
   "id": "38cd3dad",
   "metadata": {},
   "outputs": [],
   "source": [
    "# !sudo apt-get install -y fonts-nanum\n",
    "# !sudo fc-cache -fv\n",
    "# !rm ~/.cache/matplotlib -rf"
   ]
  },
  {
   "cell_type": "markdown",
   "id": "bea9bd93",
   "metadata": {},
   "source": [
    "## folium 개요"
   ]
  },
  {
   "cell_type": "markdown",
   "id": "0e0ab9eb",
   "metadata": {},
   "source": [
    "folium은 `leaflet.js` 기반으로 만들어진 Python 지도 시각화 라이브러리 입니다.\n",
    "\n",
    "[도큐먼트](https://python-visualization.github.io/folium/)\n",
    "\n",
    "folium을 사용하여 인터랙티브한 지도를 생성하고 **마커를 추가**하여 시각화하거나 **원으로 범위를 표기**하고 `html` 파일로 내보내기 등을 수행할 수 있습니다."
   ]
  },
  {
   "cell_type": "markdown",
   "id": "acdfbc37",
   "metadata": {},
   "source": [
    "## folium 설치"
   ]
  },
  {
   "cell_type": "markdown",
   "id": "30eb9962",
   "metadata": {},
   "source": [
    "`pip install folium`으로 라이브러리를 설치할 수 있습니다."
   ]
  },
  {
   "cell_type": "code",
   "execution_count": null,
   "id": "1c7af5c8",
   "metadata": {},
   "outputs": [],
   "source": [
    "# !pip install folium"
   ]
  },
  {
   "cell_type": "markdown",
   "id": "564065e1",
   "metadata": {},
   "source": [
    "모듈 import "
   ]
  },
  {
   "cell_type": "code",
   "execution_count": null,
   "id": "70f6bd45",
   "metadata": {},
   "outputs": [],
   "source": [
    "import folium"
   ]
  },
  {
   "cell_type": "markdown",
   "id": "8a1ccbca",
   "metadata": {},
   "source": [
    "## 기본 좌표 설정"
   ]
  },
  {
   "cell_type": "markdown",
   "id": "1a87a5e3",
   "metadata": {},
   "source": [
    "`location`에 위도, 경도 정보를 입력하여 입력한 **위,경도 좌표**를 기준으로 지도를 그릴 수 있습니다.\n",
    "\n",
    "이때 `zoom_start` 정보를 지정하여 **확대**의 정도를 지정할 수 있습니다.\n",
    "\n",
    "- 참고: `zoom_start`의 범위는 **최대 18** 입니다."
   ]
  },
  {
   "cell_type": "code",
   "execution_count": null,
   "id": "65e2d624",
   "metadata": {},
   "outputs": [],
   "source": [
    "# 위도\n",
    "latitude = 37.394946\n",
    "\n",
    "# 경도\n",
    "longitude = 127.111104"
   ]
  },
  {
   "cell_type": "code",
   "execution_count": null,
   "id": "9ad8f3eb",
   "metadata": {
    "scrolled": false
   },
   "outputs": [],
   "source": [
    "# 코드입력\n"
   ]
  },
  {
   "cell_type": "markdown",
   "id": "7126f2fb",
   "metadata": {},
   "source": [
    "## 마커 추가\n",
    "\n",
    "- `location`: 마커를 추가할 **위도/경도 좌표**를 입력 후 \n",
    "- `popup`: 표기할 팝업 문구 지정 (마우스 클릭시 표기되는 문구)\n",
    "- `tooltip`: 표기할 툴팁 지정 (마우스 오버시 표기되는 문구)\n",
    "\n",
    "마커를 생성 후 기존에 생성된 지도 `m`에 추가합니다."
   ]
  },
  {
   "cell_type": "code",
   "execution_count": null,
   "id": "4d582a77",
   "metadata": {},
   "outputs": [],
   "source": [
    "# 코드입력\n"
   ]
  },
  {
   "cell_type": "markdown",
   "id": "d98442ba",
   "metadata": {},
   "source": [
    "마커에 대한 스타일 변경도 가능합니다. 스타일 변경시 `icon` 파라미터에 `folium.Icon(color=?, icon=?)`을 지정합니다."
   ]
  },
  {
   "cell_type": "code",
   "execution_count": null,
   "id": "81dbe151",
   "metadata": {},
   "outputs": [],
   "source": [
    "# 코드입력\n"
   ]
  },
  {
   "cell_type": "markdown",
   "id": "923b882b",
   "metadata": {},
   "source": [
    "`popup`이나 `tooltip`에 다음과 같이 `html 코드`를 삽입하여 이미지를 표기하거나 심지어 YouTube 영상도 삽입할 수 있습니다."
   ]
  },
  {
   "cell_type": "code",
   "execution_count": null,
   "id": "3cdcd203",
   "metadata": {},
   "outputs": [],
   "source": [
    "folium.Marker([latitude, longitude],\n",
    "              popup='<iframe width=\"560\" height=\"315\" src=\"https://www.youtube.com/embed/dpwTOQri42s\" title=\"YouTube video player\" frameborder=\"0\" allow=\"accelerometer; autoplay; clipboard-write; encrypted-media; gyroscope; picture-in-picture\" allowfullscreen></iframe>',\n",
    "              tooltip=\"판교역 입구\").add_to(m)\n",
    "m"
   ]
  },
  {
   "cell_type": "code",
   "execution_count": null,
   "id": "93bcf42a",
   "metadata": {},
   "outputs": [],
   "source": [
    "folium.CircleMarker([latitude, longitude],\n",
    "                    color='tomato',\n",
    "                    radius = 50, \n",
    "                    tooltip='판교역 상권').add_to(m)\n",
    "m"
   ]
  },
  {
   "cell_type": "markdown",
   "id": "708136b8",
   "metadata": {},
   "source": [
    "## 실습에 필요한 데이터셋"
   ]
  },
  {
   "cell_type": "markdown",
   "id": "35dea681",
   "metadata": {},
   "source": [
    "[소상공인 시장 진흥공단 상권정보](https://www.data.go.kr/tcs/dss/selectFileDataDetailView.do?publicDataPk=15083033)"
   ]
  },
  {
   "cell_type": "code",
   "execution_count": null,
   "id": "8ce6ce33",
   "metadata": {},
   "outputs": [],
   "source": [
    "# !pip install teddynote -q"
   ]
  },
  {
   "cell_type": "code",
   "execution_count": null,
   "id": "27eabe78",
   "metadata": {},
   "outputs": [],
   "source": [
    "from teddynote import dataset\n",
    "\n",
    "dataset.download('소상공인상권정보')"
   ]
  },
  {
   "cell_type": "code",
   "execution_count": null,
   "id": "4201c578",
   "metadata": {},
   "outputs": [],
   "source": [
    "import pandas as pd\n",
    "\n",
    "# 코드입력\n",
    "df = \n",
    "df.head(3)"
   ]
  },
  {
   "cell_type": "markdown",
   "id": "6b379684",
   "metadata": {},
   "source": [
    "컬럼 정보를 출력 합니다."
   ]
  },
  {
   "cell_type": "code",
   "execution_count": null,
   "id": "15515563",
   "metadata": {},
   "outputs": [],
   "source": [
    "pd.Series(df.columns)"
   ]
  },
  {
   "cell_type": "markdown",
   "id": "e4b0008a",
   "metadata": {},
   "source": [
    "행정동명이 `백현동`, `정자동`, `삼평동` 인 지역만 불러옵니다"
   ]
  },
  {
   "cell_type": "code",
   "execution_count": null,
   "id": "bf3fb49b",
   "metadata": {},
   "outputs": [],
   "source": [
    "sub_df = df.loc[df['행정동명'].isin(['백현동', '정자동', '삼평동'])]\n",
    "sub_df.head(3)"
   ]
  },
  {
   "cell_type": "code",
   "execution_count": null,
   "id": "325cd4f7",
   "metadata": {},
   "outputs": [],
   "source": [
    "sub_df[['위도', '경도', '상호명']]"
   ]
  },
  {
   "cell_type": "markdown",
   "id": "07f2d881",
   "metadata": {},
   "source": [
    "## 클러스터 생성"
   ]
  },
  {
   "cell_type": "code",
   "execution_count": null,
   "id": "c6f0fa77",
   "metadata": {},
   "outputs": [],
   "source": [
    "from folium.plugins import MarkerCluster\n",
    "\n",
    "m = folium.Map(\n",
    "    location=[latitude, longitude],\n",
    "    zoom_start=15\n",
    ")\n",
    "\n",
    "coords = sub_df[['위도', '경도']]"
   ]
  },
  {
   "cell_type": "code",
   "execution_count": null,
   "id": "67f5a36d",
   "metadata": {},
   "outputs": [],
   "source": [
    "# 코드입력\n"
   ]
  },
  {
   "cell_type": "markdown",
   "id": "53e454dd",
   "metadata": {},
   "source": [
    "## 서울 지도에서 행정 구역별 표시"
   ]
  },
  {
   "cell_type": "code",
   "execution_count": null,
   "id": "d4a9292d",
   "metadata": {
    "scrolled": true
   },
   "outputs": [],
   "source": [
    "import requests\n",
    "import json\n",
    "\n",
    "# 서울 행정구역 json raw파일(githubcontent)\n",
    "r = requests.get('https://raw.githubusercontent.com/southkorea/seoul-maps/master/kostat/2013/json/seoul_municipalities_geo_simple.json')\n",
    "c = r.content\n",
    "seoul_geo = json.loads(c)\n",
    "seoul_geo"
   ]
  },
  {
   "cell_type": "markdown",
   "id": "d4645ff5",
   "metadata": {},
   "source": [
    "서울 지역의 구별 boundary 시각화"
   ]
  },
  {
   "cell_type": "code",
   "execution_count": null,
   "id": "cbfc6b5b",
   "metadata": {
    "scrolled": false
   },
   "outputs": [],
   "source": [
    "m = folium.Map(\n",
    "    location=[37.559819, 126.963895],\n",
    "    zoom_start=11, \n",
    ")\n",
    "\n",
    "# 코드입력\n"
   ]
  },
  {
   "cell_type": "markdown",
   "id": "11f27abe",
   "metadata": {},
   "source": [
    "## tiles 옵션 변경을 통해 지도의 테마 변경\n",
    "\n",
    "지도의 기본 테마(tiles)는 `OpenStreetMap`으로 설정되어 있는데, 이를 변경하여 다른 지도 테마를 적용할 수 있다."
   ]
  },
  {
   "cell_type": "markdown",
   "id": "aad83762",
   "metadata": {},
   "source": [
    "### `Stamen Toner` 적용시"
   ]
  },
  {
   "cell_type": "code",
   "execution_count": null,
   "id": "4bec51d0",
   "metadata": {},
   "outputs": [],
   "source": [
    "m = folium.Map(\n",
    "    location=[37.559819, 126.963895],\n",
    "    zoom_start=11, \n",
    "    # 타일변경\n",
    "    tiles='Stamen Toner'\n",
    ")\n",
    "\n",
    "folium.GeoJson(\n",
    "    seoul_geo,\n",
    "    name='지역구'\n",
    ").add_to(m)\n",
    "\n",
    "m"
   ]
  },
  {
   "cell_type": "markdown",
   "id": "828df163",
   "metadata": {},
   "source": [
    "### `cartodbpositron` 적용시"
   ]
  },
  {
   "cell_type": "code",
   "execution_count": null,
   "id": "fccc7905",
   "metadata": {},
   "outputs": [],
   "source": [
    "m = folium.Map(\n",
    "    location=[37.559819, 126.963895],\n",
    "    zoom_start=11, \n",
    "    # 타일변경\n",
    "    tiles='cartodbpositron'\n",
    ")\n",
    "\n",
    "folium.GeoJson(\n",
    "    seoul_geo,\n",
    "    name='지역구'\n",
    ").add_to(m)\n",
    "\n",
    "m"
   ]
  },
  {
   "cell_type": "markdown",
   "id": "1b3ef9ff",
   "metadata": {},
   "source": [
    "## 서울시 자치구별 상권정보 시각화\n",
    "\n",
    "- [소상공인시장진흥공단 상권 정보 데이터셋 다운로드](https://www.data.go.kr/data/15083033/fileData.do)"
   ]
  },
  {
   "cell_type": "markdown",
   "id": "a2269e6d",
   "metadata": {},
   "source": [
    "`seoul` 데이터프레임에 소상공인시장진흥공단에서 제공하는 **서울시 상권정보 csv 파일**을 로드합니다. "
   ]
  },
  {
   "cell_type": "code",
   "execution_count": null,
   "id": "ad96a8b5",
   "metadata": {},
   "outputs": [],
   "source": [
    "import pandas as pd\n",
    "\n",
    "# 서울 상권정보 데이터를 로드합니다\n",
    "seoul = \n",
    "\n",
    "# 필요한 컬럼 정보만 가져옵니다\n",
    "seoul = seoul[['시군구명', '상권업종대분류명', '상권업종중분류명', '위도', '경도']]\n",
    "seoul"
   ]
  },
  {
   "cell_type": "markdown",
   "id": "d607a2b0",
   "metadata": {},
   "source": [
    "시각화 모듈을 import 하고 **서울시의 업종별 개수**를 시각화합니다."
   ]
  },
  {
   "cell_type": "code",
   "execution_count": null,
   "id": "22dc6081",
   "metadata": {},
   "outputs": [],
   "source": [
    "import matplotlib.pyplot as plt\n",
    "import seaborn as sns\n",
    "\n",
    "# 한글 폰트 설정\n",
    "plt.rcParams['font.family'] = 'NanumGothic'"
   ]
  },
  {
   "cell_type": "markdown",
   "id": "89f3d815",
   "metadata": {},
   "source": [
    "서울시의 `상권업종중분류명`에 따른 데이터 개수를 시각화 합니다."
   ]
  },
  {
   "cell_type": "code",
   "execution_count": null,
   "id": "81b6ace0",
   "metadata": {},
   "outputs": [],
   "source": [
    "# 코드입력\n"
   ]
  },
  {
   "cell_type": "markdown",
   "id": "0cfd314b",
   "metadata": {},
   "source": [
    "**한식 업종이 가장 많은 개수**를 차지합니다. 커피점/카페 업종이 가장 많은 업종일 줄 알았는데요. 한식, 이미용/건강, 종합소매업 다음 4위를 차지하였습니다."
   ]
  },
  {
   "cell_type": "markdown",
   "id": "9ba248e3",
   "metadata": {},
   "source": [
    "그럼 **커피점/카페** 업종은 자치구별로 **어느 곳에 가장 많이 분포**해 있는지 시각화해 보겠습니다."
   ]
  },
  {
   "cell_type": "code",
   "execution_count": null,
   "id": "13f2c178",
   "metadata": {},
   "outputs": [],
   "source": [
    "# 코드입력\n"
   ]
  },
  {
   "cell_type": "markdown",
   "id": "9957a9db",
   "metadata": {},
   "source": [
    "강남구가 가장 많은 수를 차지하고 강북구는 가장 적은 수를 차지하였습니다.\n",
    "\n",
    "이제 이를 folium 위에 시각화를 해보겠습니다."
   ]
  },
  {
   "cell_type": "code",
   "execution_count": null,
   "id": "0ccc06c0",
   "metadata": {},
   "outputs": [],
   "source": [
    "seoul_coffee = seoul.loc[seoul['상권업종중분류명'] == '커피점/카페']\n",
    "seoul_coffee"
   ]
  },
  {
   "cell_type": "code",
   "execution_count": null,
   "id": "b2f904c2",
   "metadata": {},
   "outputs": [],
   "source": [
    "m = folium.Map(\n",
    "    location=[37.559819, 126.963895],\n",
    "    zoom_start=12, \n",
    "    tiles='cartodbpositron'\n",
    ")\n",
    "\n",
    "folium.GeoJson(\n",
    "    seoul_geo,\n",
    "    name='지역구'\n",
    ").add_to(m)"
   ]
  },
  {
   "cell_type": "markdown",
   "id": "4d0636a9",
   "metadata": {},
   "source": [
    "클러스터를 추가하여 지도위에 시각화 합니다."
   ]
  },
  {
   "cell_type": "code",
   "execution_count": null,
   "id": "87d7494b",
   "metadata": {},
   "outputs": [],
   "source": [
    "# 코드입력\n"
   ]
  },
  {
   "cell_type": "code",
   "execution_count": null,
   "id": "11966dac",
   "metadata": {},
   "outputs": [],
   "source": [
    "seoul_group_data = seoul.loc[seoul['상권업종중분류명'] == '커피점/카페'].groupby('시군구명')['상권업종중분류명'].count()\n",
    "seoul_group_data"
   ]
  },
  {
   "cell_type": "markdown",
   "id": "e18b744d",
   "metadata": {},
   "source": [
    "`choropleth` 를 사용하여 시각화를 하면 업종 별 개수에 따른 색상의 차이를 두어 시각화를 해줍니다."
   ]
  },
  {
   "cell_type": "code",
   "execution_count": null,
   "id": "20e80fdc",
   "metadata": {},
   "outputs": [],
   "source": [
    "m = folium.Map(\n",
    "    location=[37.559819, 126.963895],\n",
    "    zoom_start=11, \n",
    "    tiles='cartodbpositron'\n",
    ")\n",
    "\n",
    "folium.GeoJson(\n",
    "    seoul_geo,\n",
    "    name='지역구'\n",
    ").add_to(m)"
   ]
  },
  {
   "cell_type": "code",
   "execution_count": null,
   "id": "3d767bdd",
   "metadata": {},
   "outputs": [],
   "source": [
    "# 코드입력\n"
   ]
  },
  {
   "cell_type": "markdown",
   "id": "d32b9da3",
   "metadata": {},
   "source": [
    "`bins`를 만들어 **1/4, 2/4, 3/4분위수별**로 구간을 나누어 시각화할 수 있습니다."
   ]
  },
  {
   "cell_type": "code",
   "execution_count": null,
   "id": "17ff1d4f",
   "metadata": {},
   "outputs": [],
   "source": [
    "# 코드입력\n",
    "bins = \n",
    "\n",
    "m = folium.Map(\n",
    "    location=[37.559819, 126.963895],\n",
    "    zoom_start=11, \n",
    "    tiles='cartodbpositron'\n",
    ")\n",
    "\n",
    "folium.GeoJson(\n",
    "    seoul_geo,\n",
    "    name='지역구'\n",
    ").add_to(m)\n",
    "\n",
    "m.choropleth(geo_data=seoul_geo,\n",
    "             data=seoul_group_data, \n",
    "             fill_color='YlOrRd', # 색상 변경도 가능하다\n",
    "             fill_opacity=0.5,\n",
    "             line_opacity=0.2,\n",
    "             key_on='properties.name',\n",
    "             legend_name=\"지역구별 커피 업종 수\", \n",
    "             bins=bins\n",
    "            )\n",
    "m"
   ]
  },
  {
   "cell_type": "markdown",
   "id": "02a03123",
   "metadata": {},
   "source": [
    "## Html 파일로 저장"
   ]
  },
  {
   "cell_type": "markdown",
   "id": "77af366e",
   "metadata": {},
   "source": [
    "저장은 `save()` 함수로 쉽게 html 파일로 저장할 수 있습니다."
   ]
  },
  {
   "cell_type": "code",
   "execution_count": null,
   "id": "01bb7f64",
   "metadata": {},
   "outputs": [],
   "source": [
    "m.save('map.html')"
   ]
  },
  {
   "cell_type": "markdown",
   "id": "25eba3cc",
   "metadata": {},
   "source": [
    "## 참고 (References)\n",
    "\n",
    "- [Folium 0.12.1 documentation](https://python-visualization.github.io/folium/)\n",
    "- [folium을 이용하여 서울시 동별 인구 수 시각화하기](https://d-hyeon.tistory.com/2)\n",
    "- [지도 핸들링_folium](https://m.blog.naver.com/PostView.naver?isHttpsRedirect=true&blogId=jymoon1115&logNo=221392797679)"
   ]
  }
 ],
 "metadata": {
  "kernelspec": {
   "display_name": "Python 3",
   "language": "python",
   "name": "python3"
  },
  "language_info": {
   "codemirror_mode": {
    "name": "ipython",
    "version": 3
   },
   "file_extension": ".py",
   "mimetype": "text/x-python",
   "name": "python",
   "nbconvert_exporter": "python",
   "pygments_lexer": "ipython3",
   "version": "3.7.10"
  }
 },
 "nbformat": 4,
 "nbformat_minor": 5
}
