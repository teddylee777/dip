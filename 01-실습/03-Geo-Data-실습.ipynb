{
 "cells": [
  {
   "cell_type": "markdown",
   "id": "304b00cc",
   "metadata": {},
   "source": [
    "## 한글 폰트 설치\n",
    "\n",
    "- 참고: https://teddylee777.github.io/colab/colab-korean"
   ]
  },
  {
   "cell_type": "code",
   "execution_count": null,
   "id": "c05dbe13",
   "metadata": {},
   "outputs": [],
   "source": [
    "# !sudo apt-get install -y fonts-nanum\n",
    "# !sudo fc-cache -fv\n",
    "# !rm ~/.cache/matplotlib -rf"
   ]
  },
  {
   "cell_type": "markdown",
   "id": "1ff5726a",
   "metadata": {},
   "source": [
    "## 데이터셋"
   ]
  },
  {
   "cell_type": "code",
   "execution_count": null,
   "id": "6ce8202f",
   "metadata": {},
   "outputs": [],
   "source": [
    "from teddynote import dataset\n",
    "\n",
    "dataset.download('지하철승하차인원')"
   ]
  },
  {
   "cell_type": "markdown",
   "id": "3ed44c55",
   "metadata": {},
   "source": [
    "- [서울교통공사_월별 승하차인원](https://www.data.go.kr/data/15044249/fileData.do)\n",
    "- [지하철역 주소 정보](http://data.seoul.go.kr/dataList/OA-12035/S/1/datasetView.do)"
   ]
  },
  {
   "cell_type": "markdown",
   "id": "ee933c69",
   "metadata": {},
   "source": [
    "## 모듈 import & 파일 로드"
   ]
  },
  {
   "cell_type": "code",
   "execution_count": null,
   "id": "12e454c0",
   "metadata": {},
   "outputs": [],
   "source": [
    "import os\n",
    "import pandas as pd\n",
    "import numpy as np\n",
    "import requests\n",
    "import json\n",
    "import matplotlib.pyplot as plt\n",
    "import seaborn as sns\n",
    "\n",
    "plt.rcParams['font.family'] = 'NanumGothic'\n",
    "\n",
    "DATA = 'data'"
   ]
  },
  {
   "cell_type": "code",
   "execution_count": null,
   "id": "a75fb859",
   "metadata": {},
   "outputs": [],
   "source": [
    "# 파일 로드\n",
    "file1 = os.path.join(DATA, '지하철_승하차인원.csv')\n",
    "df = pd.read_csv(file1, encoding='euc-kr')\n",
    "df"
   ]
  },
  {
   "cell_type": "markdown",
   "id": "b24722b1",
   "metadata": {},
   "source": [
    "## 역명에 대한 클린징"
   ]
  },
  {
   "cell_type": "code",
   "execution_count": null,
   "id": "cd859498",
   "metadata": {},
   "outputs": [],
   "source": [
    "import re\n",
    "\n",
    "# Regular Expression 적용하여 ()괄호를 제거 후 추출\n",
    "pattern_string = r'.+(?=\\()'\n",
    "pattern = re.compile(pattern_string)"
   ]
  },
  {
   "cell_type": "code",
   "execution_count": null,
   "id": "4bee0fdf",
   "metadata": {},
   "outputs": [],
   "source": [
    "pattern.match('올림픽공원(9)').group().strip()"
   ]
  },
  {
   "cell_type": "code",
   "execution_count": null,
   "id": "04b56719",
   "metadata": {},
   "outputs": [],
   "source": [
    "def clean_station(x):\n",
    "    # 코드입력\n",
    "    "
   ]
  },
  {
   "cell_type": "code",
   "execution_count": null,
   "id": "3dfd873e",
   "metadata": {
    "scrolled": true
   },
   "outputs": [],
   "source": [
    "# 코드입력\n",
    "df['역명_clean'] = \n",
    "df[['역명_clean', '역명']].head(10)"
   ]
  },
  {
   "cell_type": "markdown",
   "id": "d55c38b9",
   "metadata": {},
   "source": [
    "`역명` 컬럼을 제거한 뒤, `역명_clean`컬럼을 `역명`으로 변환합니다."
   ]
  },
  {
   "cell_type": "code",
   "execution_count": null,
   "id": "3f61b5b2",
   "metadata": {},
   "outputs": [],
   "source": [
    "# 코드입력\n",
    "df = \n",
    "df = \n",
    "df.head()"
   ]
  },
  {
   "cell_type": "markdown",
   "id": "ec13957d",
   "metadata": {},
   "source": [
    "## 중복 되는 역에 대한 승하차 인원 합계 환산"
   ]
  },
  {
   "cell_type": "code",
   "execution_count": null,
   "id": "8eb71425",
   "metadata": {},
   "outputs": [],
   "source": [
    "df.loc[df['역명'] == '서울역']"
   ]
  },
  {
   "cell_type": "code",
   "execution_count": null,
   "id": "51d85da7",
   "metadata": {},
   "outputs": [],
   "source": [
    "df.loc[df['역명'] == '고속터미널']"
   ]
  },
  {
   "cell_type": "markdown",
   "id": "12db0295",
   "metadata": {},
   "source": [
    "`역명`을 기준으로 승하차인원에 대한 합계를 구합니다."
   ]
  },
  {
   "cell_type": "code",
   "execution_count": null,
   "id": "cb17607c",
   "metadata": {},
   "outputs": [],
   "source": [
    "# 코드입력\n",
    "df_total = \n",
    "df_total"
   ]
  },
  {
   "cell_type": "markdown",
   "id": "669f8d58",
   "metadata": {},
   "source": [
    "**역번호**도 합계가 구해졌기 때문에, 역번호를 이전 데이터프레임으로부터 병합합니다."
   ]
  },
  {
   "cell_type": "code",
   "execution_count": null,
   "id": "0aa1b5db",
   "metadata": {},
   "outputs": [],
   "source": [
    "df_merged = pd.merge(df_total, df.drop_duplicates('역명', keep='first')[['역명', '역번호']], how='left')\n",
    "df_merged"
   ]
  },
  {
   "cell_type": "markdown",
   "id": "0cea2db6",
   "metadata": {},
   "source": [
    "**고속터미널** 역에 대한 합계치 비교"
   ]
  },
  {
   "cell_type": "code",
   "execution_count": null,
   "id": "4f1059cb",
   "metadata": {},
   "outputs": [],
   "source": [
    "df.loc[df['역명'] == '고속터미널']"
   ]
  },
  {
   "cell_type": "code",
   "execution_count": null,
   "id": "21e954e5",
   "metadata": {},
   "outputs": [],
   "source": [
    "df_merged.loc[df_merged['역명'] == '고속터미널']"
   ]
  },
  {
   "cell_type": "markdown",
   "id": "f6486aa2",
   "metadata": {},
   "source": [
    "## `seoul_station_geocode.csv` 파일 로드"
   ]
  },
  {
   "cell_type": "code",
   "execution_count": null,
   "id": "5ff1cb68",
   "metadata": {},
   "outputs": [],
   "source": [
    "# 코드입력\n",
    "address = pd.read_csv('seoul_station_geocode.csv')\n",
    "# csv 파일이 없는 경우\n",
    "# address = pd.read_csv('https://raw.githubusercontent.com/teddylee777/dip/main/assets/seoul_station_geocode.csv')\n",
    "address.head()"
   ]
  },
  {
   "cell_type": "code",
   "execution_count": null,
   "id": "01fccdd5",
   "metadata": {},
   "outputs": [],
   "source": [
    "# 코드입력\n",
    "merged_data = \n",
    "merged_data.head()"
   ]
  },
  {
   "cell_type": "code",
   "execution_count": null,
   "id": "c06d9e09",
   "metadata": {},
   "outputs": [],
   "source": [
    "df_merged.shape, merged_data.shape"
   ]
  },
  {
   "cell_type": "markdown",
   "id": "cd32b042",
   "metadata": {},
   "source": [
    "병합된 데이터셋에 대한 결측치 확인"
   ]
  },
  {
   "cell_type": "code",
   "execution_count": null,
   "id": "4665b613",
   "metadata": {},
   "outputs": [],
   "source": [
    "merged_data.isnull().sum()"
   ]
  },
  {
   "cell_type": "markdown",
   "id": "72425083",
   "metadata": {},
   "source": [
    "## 주소 데이터 분할"
   ]
  },
  {
   "cell_type": "code",
   "execution_count": null,
   "id": "56c71d31",
   "metadata": {},
   "outputs": [],
   "source": [
    "# 코드입력\n"
   ]
  },
  {
   "cell_type": "markdown",
   "id": "be9a4f35",
   "metadata": {},
   "source": [
    "**구**만 추출하기"
   ]
  },
  {
   "cell_type": "code",
   "execution_count": null,
   "id": "5e652b74",
   "metadata": {},
   "outputs": [],
   "source": [
    "# 코드입력\n"
   ]
  },
  {
   "cell_type": "code",
   "execution_count": null,
   "id": "67cf5988",
   "metadata": {},
   "outputs": [],
   "source": [
    "# 코드입력\n",
    "merged_data['구'] = \n",
    "merged_data['구']"
   ]
  },
  {
   "cell_type": "code",
   "execution_count": null,
   "id": "f0c1cbea",
   "metadata": {},
   "outputs": [],
   "source": [
    "merged_data.head()"
   ]
  },
  {
   "cell_type": "markdown",
   "id": "549ff432",
   "metadata": {},
   "source": [
    "## folium을 활용한 지도 시각화"
   ]
  },
  {
   "cell_type": "code",
   "execution_count": null,
   "id": "a7c442dc",
   "metadata": {},
   "outputs": [],
   "source": [
    "import folium\n",
    "\n",
    "# 위도\n",
    "latitude = 37.394946\n",
    "# 경도\n",
    "longitude = 127.111104\n",
    "\n",
    "m = folium.Map(location=[latitude, longitude],\n",
    "               zoom_start=17, \n",
    "               width=750, \n",
    "               height=500\n",
    "              )\n",
    "m"
   ]
  },
  {
   "cell_type": "code",
   "execution_count": null,
   "id": "79d2af44",
   "metadata": {},
   "outputs": [],
   "source": [
    "station_name = '시청'\n",
    "geo = list(merged_data.loc[merged_data['역명'] == station_name, ['lat', 'lng']].iloc[0])\n",
    "print(f'위도: {geo[0]}, 경도: {geo[1]}')\n",
    "\n",
    "# folium 시각화\n",
    "m = folium.Map(location=geo,\n",
    "               zoom_start=17, \n",
    "               width=750, \n",
    "               height=500\n",
    "              )\n",
    "\n",
    "folium.Marker(geo,\n",
    "              popup=station_name,\n",
    "              tooltip=f'{station_name} 정보').add_to(m)\n",
    "m"
   ]
  },
  {
   "cell_type": "markdown",
   "id": "0678a8d0",
   "metadata": {},
   "source": [
    "타일을 `cartodbpositron`으로 변경합니다."
   ]
  },
  {
   "cell_type": "code",
   "execution_count": null,
   "id": "19fd622c",
   "metadata": {},
   "outputs": [],
   "source": [
    "m = folium.Map(\n",
    "    location=[37.559819, 126.963895],\n",
    "    zoom_start=11, \n",
    "    tiles='cartodbpositron'\n",
    ")\n",
    "m"
   ]
  },
  {
   "cell_type": "markdown",
   "id": "43d32911",
   "metadata": {},
   "source": [
    "## 서울 행정구역 표기 및 시각화에 boundary 적용"
   ]
  },
  {
   "cell_type": "code",
   "execution_count": null,
   "id": "300fbf59",
   "metadata": {},
   "outputs": [],
   "source": [
    "# 서울 행정구역 json raw파일(githubcontent)\n",
    "r = requests.get('https://raw.githubusercontent.com/southkorea/seoul-maps/master/kostat/2013/json/seoul_municipalities_geo_simple.json')\n",
    "c = r.content\n",
    "seoul_geo = json.loads(c)\n",
    "seoul_geo"
   ]
  },
  {
   "cell_type": "markdown",
   "id": "d81bdb87",
   "metadata": {},
   "source": [
    "자치구별 1월의 승하차인원 합계량을 산출합니다."
   ]
  },
  {
   "cell_type": "code",
   "execution_count": null,
   "id": "7039fa96",
   "metadata": {},
   "outputs": [],
   "source": [
    "# 코드입력\n"
   ]
  },
  {
   "cell_type": "code",
   "execution_count": null,
   "id": "4c29472e",
   "metadata": {},
   "outputs": [],
   "source": [
    "# 월 설정\n",
    "N = 2\n",
    "\n",
    "plt.figure(figsize=(12, 15))\n",
    "merged_data.groupby('구')[f'{N}월'].sum().sort_values().plot(kind='barh')\n",
    "plt.title(f'{N}월 구별 승하차 인원')\n",
    "plt.show()"
   ]
  },
  {
   "cell_type": "code",
   "execution_count": null,
   "id": "1af99278",
   "metadata": {},
   "outputs": [],
   "source": [
    "m = folium.Map(\n",
    "    location=[37.559819, 126.963895],\n",
    "    zoom_start=10, \n",
    "    tiles='cartodbpositron'\n",
    ")\n",
    "\n",
    "folium.GeoJson(\n",
    "    seoul_geo,\n",
    "    name='지역구'\n",
    ").add_to(m)\n",
    "\n",
    "m.choropleth(geo_data=seoul_geo,\n",
    "             data=merged_data.groupby('구')[f'{N}월'].sum(),\n",
    "             fill_color='YlOrRd', # 색상 변경도 가능하다\n",
    "             fill_opacity=0.9,\n",
    "             line_opacity=0.2,\n",
    "             key_on='properties.name',\n",
    "             legend_name=f'{N}월 승하차 인원', \n",
    "            )\n",
    "m"
   ]
  },
  {
   "cell_type": "markdown",
   "id": "d56e63ed",
   "metadata": {},
   "source": [
    "## 통계 분석"
   ]
  },
  {
   "cell_type": "code",
   "execution_count": null,
   "id": "e7ef3b83",
   "metadata": {},
   "outputs": [],
   "source": [
    "stats = merged_data.drop(['주소', '역번호', 'lat', 'lng'], axis=1)\n",
    "stats"
   ]
  },
  {
   "cell_type": "code",
   "execution_count": null,
   "id": "2551c2c1",
   "metadata": {},
   "outputs": [],
   "source": [
    "stats.loc[stats['역명'] == '강남']"
   ]
  },
  {
   "cell_type": "code",
   "execution_count": null,
   "id": "06c252ed",
   "metadata": {},
   "outputs": [],
   "source": [
    "stats.loc[stats['역명'] == '강남'].iloc[:, 1:-1]"
   ]
  },
  {
   "cell_type": "markdown",
   "id": "5c6edbfe",
   "metadata": {},
   "source": [
    "[seaborn pointplot](https://seaborn.pydata.org/generated/seaborn.pointplot.html)"
   ]
  },
  {
   "cell_type": "code",
   "execution_count": null,
   "id": "0820f60f",
   "metadata": {},
   "outputs": [],
   "source": [
    "place = '강남'\n",
    "plt.figure(figsize=(10, 6))\n",
    "sns.pointplot(x = np.arange(1, 13), y=np.squeeze(stats.loc[stats['역명'] == place].iloc[:, 1:-1].values))\n",
    "plt.show()"
   ]
  },
  {
   "cell_type": "code",
   "execution_count": null,
   "id": "3f3207e7",
   "metadata": {},
   "outputs": [],
   "source": [
    "place1 = '강남'\n",
    "place2 = '고속터미널'\n",
    "plt.figure(figsize=(10, 6))\n",
    "sns.pointplot(x = np.arange(1, 13), y=np.squeeze(stats.loc[stats['역명'] == place1].iloc[:, 1:-1].values), color='black')\n",
    "sns.pointplot(x = np.arange(1, 13), y=np.squeeze(stats.loc[stats['역명'] == place2].iloc[:, 1:-1].values), color='tomato')\n",
    "plt.show()"
   ]
  },
  {
   "cell_type": "code",
   "execution_count": null,
   "id": "facbb89e",
   "metadata": {},
   "outputs": [],
   "source": [
    "plt.figure(figsize=(10, 6))\n",
    "sns.pointplot(x ='역명', y='1월', data=stats.loc[stats['구'] == '강남구'].iloc[:, :-1], color='black')\n",
    "sns.pointplot(x ='역명', y='4월', data=stats.loc[stats['구'] == '강남구'].iloc[:, :-1], color='blue')\n",
    "sns.pointplot(x ='역명', y='7월', data=stats.loc[stats['구'] == '강남구'].iloc[:, :-1], color='tomato')\n",
    "sns.pointplot(x ='역명', y='11월', data=stats.loc[stats['구'] == '강남구'].iloc[:, :-1], color='cyan')\n",
    "plt.show()"
   ]
  },
  {
   "cell_type": "code",
   "execution_count": null,
   "id": "efc4518b",
   "metadata": {},
   "outputs": [],
   "source": [
    "stats.loc[stats['구'] == '강남구'].iloc[:, :-1]"
   ]
  },
  {
   "cell_type": "markdown",
   "id": "38cc9607",
   "metadata": {},
   "source": [
    "강남구에 위치한 지하철역의 승하차인원을 heatmap으로 시각화합니다."
   ]
  },
  {
   "cell_type": "code",
   "execution_count": null,
   "id": "022fd646",
   "metadata": {},
   "outputs": [],
   "source": [
    "plt.figure(figsize=(12, 12))\n",
    "cmap = sns.cubehelix_palette(light=1, as_cmap=True)\n",
    "sns.heatmap(stats.loc[stats['구'] == '강남구'].iloc[:, 1:-1]/1000, annot=True, fmt='.1f', cmap=cmap, cbar_kws={\"shrink\": .7})\n",
    "plt.yticks(np.arange(len(stats.loc[stats['구'] == '강남구'].iloc[:, 0].values)), stats.loc[stats['구'] == '강남구'].iloc[:, 0].values)\n",
    "plt.yticks(rotation=45)\n",
    "plt.show()"
   ]
  },
  {
   "cell_type": "markdown",
   "id": "602f3b2f",
   "metadata": {},
   "source": [
    "강남구에 위치한 역의 승하차 인원의 평균을 산출하여 `avg` 임시 변수에 대입합니다."
   ]
  },
  {
   "cell_type": "code",
   "execution_count": null,
   "id": "18f8fe8b",
   "metadata": {},
   "outputs": [],
   "source": [
    "avg = stats.loc[stats['구'] == '강남구'].iloc[:, 1:-1].mean()\n",
    "avg"
   ]
  },
  {
   "cell_type": "code",
   "execution_count": null,
   "id": "fd39ec85",
   "metadata": {},
   "outputs": [],
   "source": [
    "place1 = '강남'\n",
    "plt.figure(figsize=(10, 6))\n",
    "sns.pointplot(x = np.arange(1, 13), y=np.squeeze(stats.loc[stats['역명'] == place1].iloc[:, 1:-1].values), color='black')\n",
    "sns.pointplot(x = np.arange(1, 13), y=np.squeeze(avg.values), color='tomato')\n",
    "plt.show()"
   ]
  },
  {
   "cell_type": "code",
   "execution_count": null,
   "id": "845f76b0",
   "metadata": {},
   "outputs": [],
   "source": [
    "gangnam = stats.loc[stats['역명'] == place1].iloc[:, 1:-1].values\n",
    "gangnam"
   ]
  },
  {
   "cell_type": "markdown",
   "id": "f7d3c5d3",
   "metadata": {},
   "source": [
    "강남역의 승하차 인원에 대한 정규화를 수행합니다."
   ]
  },
  {
   "cell_type": "code",
   "execution_count": null,
   "id": "305615b8",
   "metadata": {},
   "outputs": [],
   "source": [
    "gangnam_norm = (gangnam - gangnam.min()) / (gangnam.max() - gangnam.min())\n",
    "gangnam_norm"
   ]
  },
  {
   "cell_type": "code",
   "execution_count": null,
   "id": "9ee55489",
   "metadata": {},
   "outputs": [],
   "source": [
    "avg = avg.values\n",
    "avg"
   ]
  },
  {
   "cell_type": "markdown",
   "id": "e383268f",
   "metadata": {},
   "source": [
    "강남구 평균 승하차 인원에 대한 정규화를 수행합니다."
   ]
  },
  {
   "cell_type": "code",
   "execution_count": null,
   "id": "c3f6fcea",
   "metadata": {},
   "outputs": [],
   "source": [
    "avg_norm = (avg - avg.min()) / (avg.max() - avg.min())\n",
    "avg_norm"
   ]
  },
  {
   "cell_type": "code",
   "execution_count": null,
   "id": "ba1fbc5c",
   "metadata": {},
   "outputs": [],
   "source": [
    "place1 = '강남'\n",
    "plt.figure(figsize=(10, 6))\n",
    "sns.pointplot(x = np.arange(1, 13), y=np.squeeze(gangnam_norm), color='black')\n",
    "sns.pointplot(x = np.arange(1, 13), y=np.squeeze(avg_norm), color='tomato')\n",
    "plt.show()"
   ]
  }
 ],
 "metadata": {
  "kernelspec": {
   "display_name": "Python 3",
   "language": "python",
   "name": "python3"
  },
  "language_info": {
   "codemirror_mode": {
    "name": "ipython",
    "version": 3
   },
   "file_extension": ".py",
   "mimetype": "text/x-python",
   "name": "python",
   "nbconvert_exporter": "python",
   "pygments_lexer": "ipython3",
   "version": "3.7.10"
  }
 },
 "nbformat": 4,
 "nbformat_minor": 5
}
