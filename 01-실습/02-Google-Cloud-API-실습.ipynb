{
 "cells": [
  {
   "cell_type": "markdown",
   "id": "c77e219a",
   "metadata": {},
   "source": [
    "## 한글 폰트 설치\n",
    "\n",
    "- 참고: https://teddylee777.github.io/colab/colab-korean"
   ]
  },
  {
   "cell_type": "code",
   "execution_count": null,
   "id": "fd0fdf7c",
   "metadata": {},
   "outputs": [],
   "source": [
    "# !sudo apt-get install -y fonts-nanum\n",
    "# !sudo fc-cache -fv\n",
    "# !rm ~/.cache/matplotlib -rf"
   ]
  },
  {
   "cell_type": "markdown",
   "id": "e7441b15",
   "metadata": {},
   "source": [
    "## GoogleMaps 패키지 설치\n",
    "\n",
    "- Google Cloud API 사용 절차 등록\n",
    "- https://teddylee777.github.io/data_science/geocoding"
   ]
  },
  {
   "cell_type": "code",
   "execution_count": null,
   "id": "b3cc1a4b",
   "metadata": {},
   "outputs": [],
   "source": [
    "# googlemaps 설치\n",
    "# !pip install googlemaps"
   ]
  },
  {
   "cell_type": "code",
   "execution_count": 1,
   "id": "f557b707",
   "metadata": {},
   "outputs": [
    {
     "data": {
      "text/plain": [
       "'AIzaSyBfu3'"
      ]
     },
     "execution_count": 1,
     "metadata": {},
     "output_type": "execute_result"
    }
   ],
   "source": [
    "private_key = # Google Cloud API 키를 입력합니다.\n",
    "private_key = open('GOOGLE_MAP_API_KEY.txt', 'r')\n",
    "google_map_key = private_key.readline()\n",
    "\n",
    "# Google Cloud API 키\n",
    "google_map_key[:10]"
   ]
  },
  {
   "cell_type": "markdown",
   "id": "612d6507",
   "metadata": {},
   "source": [
    "`googlemaps` 패키지 import "
   ]
  },
  {
   "cell_type": "code",
   "execution_count": 2,
   "id": "aeee9c09",
   "metadata": {},
   "outputs": [
    {
     "data": {
      "text/plain": [
       "<googlemaps.client.Client at 0x1f0a6403588>"
      ]
     },
     "execution_count": 2,
     "metadata": {},
     "output_type": "execute_result"
    }
   ],
   "source": [
    "import googlemaps\n",
    "import os\n",
    "\n",
    "# maps 객체 생성\n",
    "maps = googlemaps.Client(key=google_map_key)\n",
    "maps"
   ]
  },
  {
   "cell_type": "markdown",
   "id": "fefa77fc",
   "metadata": {},
   "source": [
    "**지역 명칭**을 직접 입력하여 위/경도 좌표계를 구할 수 있습니다.\n",
    "\n",
    "- 명칭 입력시 return은 `json` 리스트를 반환합니다."
   ]
  },
  {
   "cell_type": "code",
   "execution_count": 3,
   "id": "747a0a12",
   "metadata": {},
   "outputs": [
    {
     "data": {
      "text/plain": [
       "[{'address_components': [{'long_name': 'Pangyo Station',\n",
       "    'short_name': 'Pangyo Station',\n",
       "    'types': ['establishment',\n",
       "     'point_of_interest',\n",
       "     'subway_station',\n",
       "     'transit_station']},\n",
       "   {'long_name': '160', 'short_name': '160', 'types': ['premise']},\n",
       "   {'long_name': 'Pangyoyeok-ro',\n",
       "    'short_name': 'Pangyoyeok-ro',\n",
       "    'types': ['political', 'sublocality', 'sublocality_level_4']},\n",
       "   {'long_name': 'Sampyeong-dong',\n",
       "    'short_name': 'Sampyeong-dong',\n",
       "    'types': ['political', 'sublocality', 'sublocality_level_2']},\n",
       "   {'long_name': 'Bundang-gu',\n",
       "    'short_name': 'Bundang-gu',\n",
       "    'types': ['political', 'sublocality', 'sublocality_level_1']},\n",
       "   {'long_name': 'Seongnam-si',\n",
       "    'short_name': 'Seongnam-si',\n",
       "    'types': ['locality', 'political']},\n",
       "   {'long_name': 'Gyeonggi-do',\n",
       "    'short_name': 'Gyeonggi-do',\n",
       "    'types': ['administrative_area_level_1', 'political']},\n",
       "   {'long_name': 'South Korea',\n",
       "    'short_name': 'KR',\n",
       "    'types': ['country', 'political']},\n",
       "   {'long_name': '463-400',\n",
       "    'short_name': '463-400',\n",
       "    'types': ['postal_code']}],\n",
       "  'formatted_address': 'Pangyo Station, 160 Pangyoyeok-ro, Sampyeong-dong, Bundang-gu, Seongnam-si, Gyeonggi-do, South Korea',\n",
       "  'geometry': {'location': {'lat': 37.394776, 'lng': 127.11116},\n",
       "   'location_type': 'ROOFTOP',\n",
       "   'viewport': {'northeast': {'lat': 37.3961249802915,\n",
       "     'lng': 127.1125089802915},\n",
       "    'southwest': {'lat': 37.3934270197085, 'lng': 127.1098110197085}}},\n",
       "  'place_id': 'ChIJPylOEwlYezUROOYJvffQr4g',\n",
       "  'plus_code': {'compound_code': '94V6+WF Seongnam-si, Gyeonggi-do, South Korea',\n",
       "   'global_code': '8Q9994V6+WF'},\n",
       "  'types': ['establishment',\n",
       "   'point_of_interest',\n",
       "   'subway_station',\n",
       "   'transit_station']}]"
      ]
     },
     "execution_count": 3,
     "metadata": {},
     "output_type": "execute_result"
    }
   ],
   "source": [
    "# 코드입력\n",
    "results = \n",
    "results"
   ]
  },
  {
   "cell_type": "markdown",
   "id": "4e59668c",
   "metadata": {},
   "source": [
    "`results`로부터 위/경도 데이터를 추출합니다."
   ]
  },
  {
   "cell_type": "code",
   "execution_count": 4,
   "id": "734136ce",
   "metadata": {},
   "outputs": [
    {
     "name": "stdout",
     "output_type": "stream",
     "text": [
      "{'lat': 37.394776, 'lng': 127.11116}\n"
     ]
    }
   ],
   "source": [
    "for result in results:\n",
    "    print(result['geometry']['location'])\n",
    "    break\n",
    "    \n",
    "lat, lng = result['geometry']['location']['lat'], result['geometry']['location']['lng']"
   ]
  },
  {
   "cell_type": "markdown",
   "id": "62b6c610",
   "metadata": {},
   "source": [
    "## folium을 사용한 지도 시각화"
   ]
  },
  {
   "cell_type": "code",
   "execution_count": 5,
   "id": "b634d035",
   "metadata": {},
   "outputs": [
    {
     "data": {
      "text/html": [
       "<div style=\"width:100%;\"><div style=\"position:relative;width:100%;height:0;padding-bottom:60%;\"><span style=\"color:#565656\">Make this Notebook Trusted to load map: File -> Trust Notebook</span><iframe src=\"about:blank\" style=\"position:absolute;width:100%;height:100%;left:0;top:0;border:none !important;\" data-html=%3C%21DOCTYPE%20html%3E%0A%3Chead%3E%20%20%20%20%0A%20%20%20%20%3Cmeta%20http-equiv%3D%22content-type%22%20content%3D%22text/html%3B%20charset%3DUTF-8%22%20/%3E%0A%20%20%20%20%0A%20%20%20%20%20%20%20%20%3Cscript%3E%0A%20%20%20%20%20%20%20%20%20%20%20%20L_NO_TOUCH%20%3D%20false%3B%0A%20%20%20%20%20%20%20%20%20%20%20%20L_DISABLE_3D%20%3D%20false%3B%0A%20%20%20%20%20%20%20%20%3C/script%3E%0A%20%20%20%20%0A%20%20%20%20%3Cstyle%3Ehtml%2C%20body%20%7Bwidth%3A%20100%25%3Bheight%3A%20100%25%3Bmargin%3A%200%3Bpadding%3A%200%3B%7D%3C/style%3E%0A%20%20%20%20%3Cstyle%3E%23map%20%7Bposition%3Aabsolute%3Btop%3A0%3Bbottom%3A0%3Bright%3A0%3Bleft%3A0%3B%7D%3C/style%3E%0A%20%20%20%20%3Cscript%20src%3D%22https%3A//cdn.jsdelivr.net/npm/leaflet%401.6.0/dist/leaflet.js%22%3E%3C/script%3E%0A%20%20%20%20%3Cscript%20src%3D%22https%3A//code.jquery.com/jquery-1.12.4.min.js%22%3E%3C/script%3E%0A%20%20%20%20%3Cscript%20src%3D%22https%3A//maxcdn.bootstrapcdn.com/bootstrap/3.2.0/js/bootstrap.min.js%22%3E%3C/script%3E%0A%20%20%20%20%3Cscript%20src%3D%22https%3A//cdnjs.cloudflare.com/ajax/libs/Leaflet.awesome-markers/2.0.2/leaflet.awesome-markers.js%22%3E%3C/script%3E%0A%20%20%20%20%3Clink%20rel%3D%22stylesheet%22%20href%3D%22https%3A//cdn.jsdelivr.net/npm/leaflet%401.6.0/dist/leaflet.css%22/%3E%0A%20%20%20%20%3Clink%20rel%3D%22stylesheet%22%20href%3D%22https%3A//maxcdn.bootstrapcdn.com/bootstrap/3.2.0/css/bootstrap.min.css%22/%3E%0A%20%20%20%20%3Clink%20rel%3D%22stylesheet%22%20href%3D%22https%3A//maxcdn.bootstrapcdn.com/bootstrap/3.2.0/css/bootstrap-theme.min.css%22/%3E%0A%20%20%20%20%3Clink%20rel%3D%22stylesheet%22%20href%3D%22https%3A//maxcdn.bootstrapcdn.com/font-awesome/4.6.3/css/font-awesome.min.css%22/%3E%0A%20%20%20%20%3Clink%20rel%3D%22stylesheet%22%20href%3D%22https%3A//cdnjs.cloudflare.com/ajax/libs/Leaflet.awesome-markers/2.0.2/leaflet.awesome-markers.css%22/%3E%0A%20%20%20%20%3Clink%20rel%3D%22stylesheet%22%20href%3D%22https%3A//cdn.jsdelivr.net/gh/python-visualization/folium/folium/templates/leaflet.awesome.rotate.min.css%22/%3E%0A%20%20%20%20%0A%20%20%20%20%20%20%20%20%20%20%20%20%3Cmeta%20name%3D%22viewport%22%20content%3D%22width%3Ddevice-width%2C%0A%20%20%20%20%20%20%20%20%20%20%20%20%20%20%20%20initial-scale%3D1.0%2C%20maximum-scale%3D1.0%2C%20user-scalable%3Dno%22%20/%3E%0A%20%20%20%20%20%20%20%20%20%20%20%20%3Cstyle%3E%0A%20%20%20%20%20%20%20%20%20%20%20%20%20%20%20%20%23map_4e996f553cb649a9a52c7cddf13faff4%20%7B%0A%20%20%20%20%20%20%20%20%20%20%20%20%20%20%20%20%20%20%20%20position%3A%20relative%3B%0A%20%20%20%20%20%20%20%20%20%20%20%20%20%20%20%20%20%20%20%20width%3A%20750.0px%3B%0A%20%20%20%20%20%20%20%20%20%20%20%20%20%20%20%20%20%20%20%20height%3A%20500.0px%3B%0A%20%20%20%20%20%20%20%20%20%20%20%20%20%20%20%20%20%20%20%20left%3A%200.0%25%3B%0A%20%20%20%20%20%20%20%20%20%20%20%20%20%20%20%20%20%20%20%20top%3A%200.0%25%3B%0A%20%20%20%20%20%20%20%20%20%20%20%20%20%20%20%20%7D%0A%20%20%20%20%20%20%20%20%20%20%20%20%3C/style%3E%0A%20%20%20%20%20%20%20%20%0A%3C/head%3E%0A%3Cbody%3E%20%20%20%20%0A%20%20%20%20%0A%20%20%20%20%20%20%20%20%20%20%20%20%3Cdiv%20class%3D%22folium-map%22%20id%3D%22map_4e996f553cb649a9a52c7cddf13faff4%22%20%3E%3C/div%3E%0A%20%20%20%20%20%20%20%20%0A%3C/body%3E%0A%3Cscript%3E%20%20%20%20%0A%20%20%20%20%0A%20%20%20%20%20%20%20%20%20%20%20%20var%20map_4e996f553cb649a9a52c7cddf13faff4%20%3D%20L.map%28%0A%20%20%20%20%20%20%20%20%20%20%20%20%20%20%20%20%22map_4e996f553cb649a9a52c7cddf13faff4%22%2C%0A%20%20%20%20%20%20%20%20%20%20%20%20%20%20%20%20%7B%0A%20%20%20%20%20%20%20%20%20%20%20%20%20%20%20%20%20%20%20%20center%3A%20%5B37.394776%2C%20127.11116%5D%2C%0A%20%20%20%20%20%20%20%20%20%20%20%20%20%20%20%20%20%20%20%20crs%3A%20L.CRS.EPSG3857%2C%0A%20%20%20%20%20%20%20%20%20%20%20%20%20%20%20%20%20%20%20%20zoom%3A%2017%2C%0A%20%20%20%20%20%20%20%20%20%20%20%20%20%20%20%20%20%20%20%20zoomControl%3A%20true%2C%0A%20%20%20%20%20%20%20%20%20%20%20%20%20%20%20%20%20%20%20%20preferCanvas%3A%20false%2C%0A%20%20%20%20%20%20%20%20%20%20%20%20%20%20%20%20%7D%0A%20%20%20%20%20%20%20%20%20%20%20%20%29%3B%0A%0A%20%20%20%20%20%20%20%20%20%20%20%20%0A%0A%20%20%20%20%20%20%20%20%0A%20%20%20%20%0A%20%20%20%20%20%20%20%20%20%20%20%20var%20tile_layer_ea1253da0e5841819329fa1980aff1bd%20%3D%20L.tileLayer%28%0A%20%20%20%20%20%20%20%20%20%20%20%20%20%20%20%20%22https%3A//%7Bs%7D.tile.openstreetmap.org/%7Bz%7D/%7Bx%7D/%7By%7D.png%22%2C%0A%20%20%20%20%20%20%20%20%20%20%20%20%20%20%20%20%7B%22attribution%22%3A%20%22Data%20by%20%5Cu0026copy%3B%20%5Cu003ca%20href%3D%5C%22http%3A//openstreetmap.org%5C%22%5Cu003eOpenStreetMap%5Cu003c/a%5Cu003e%2C%20under%20%5Cu003ca%20href%3D%5C%22http%3A//www.openstreetmap.org/copyright%5C%22%5Cu003eODbL%5Cu003c/a%5Cu003e.%22%2C%20%22detectRetina%22%3A%20false%2C%20%22maxNativeZoom%22%3A%2018%2C%20%22maxZoom%22%3A%2018%2C%20%22minZoom%22%3A%200%2C%20%22noWrap%22%3A%20false%2C%20%22opacity%22%3A%201%2C%20%22subdomains%22%3A%20%22abc%22%2C%20%22tms%22%3A%20false%7D%0A%20%20%20%20%20%20%20%20%20%20%20%20%29.addTo%28map_4e996f553cb649a9a52c7cddf13faff4%29%3B%0A%20%20%20%20%20%20%20%20%0A%20%20%20%20%0A%20%20%20%20%20%20%20%20%20%20%20%20var%20marker_e904eda677cd40af8587a082733a8bb2%20%3D%20L.marker%28%0A%20%20%20%20%20%20%20%20%20%20%20%20%20%20%20%20%5B37.394776%2C%20127.11116%5D%2C%0A%20%20%20%20%20%20%20%20%20%20%20%20%20%20%20%20%7B%7D%0A%20%20%20%20%20%20%20%20%20%20%20%20%29.addTo%28map_4e996f553cb649a9a52c7cddf13faff4%29%3B%0A%20%20%20%20%20%20%20%20%0A%20%20%20%20%0A%20%20%20%20%20%20%20%20var%20popup_557f9baeec3f4261b74814e4c10e98e3%20%3D%20L.popup%28%7B%22maxWidth%22%3A%20%22100%25%22%7D%29%3B%0A%0A%20%20%20%20%20%20%20%20%0A%20%20%20%20%20%20%20%20%20%20%20%20var%20html_ba662f802abd47c493218f4b4f02b8f2%20%3D%20%24%28%60%3Cdiv%20id%3D%22html_ba662f802abd47c493218f4b4f02b8f2%22%20style%3D%22width%3A%20100.0%25%3B%20height%3A%20100.0%25%3B%22%3E%ED%8C%90%EA%B5%90%EC%97%AD%3C/div%3E%60%29%5B0%5D%3B%0A%20%20%20%20%20%20%20%20%20%20%20%20popup_557f9baeec3f4261b74814e4c10e98e3.setContent%28html_ba662f802abd47c493218f4b4f02b8f2%29%3B%0A%20%20%20%20%20%20%20%20%0A%0A%20%20%20%20%20%20%20%20marker_e904eda677cd40af8587a082733a8bb2.bindPopup%28popup_557f9baeec3f4261b74814e4c10e98e3%29%0A%20%20%20%20%20%20%20%20%3B%0A%0A%20%20%20%20%20%20%20%20%0A%20%20%20%20%0A%20%20%20%20%0A%20%20%20%20%20%20%20%20%20%20%20%20marker_e904eda677cd40af8587a082733a8bb2.bindTooltip%28%0A%20%20%20%20%20%20%20%20%20%20%20%20%20%20%20%20%60%3Cdiv%3E%0A%20%20%20%20%20%20%20%20%20%20%20%20%20%20%20%20%20%20%20%20%20%ED%8C%90%EA%B5%90%EC%97%AD%20%EC%9E%85%EA%B5%AC%0A%20%20%20%20%20%20%20%20%20%20%20%20%20%20%20%20%20%3C/div%3E%60%2C%0A%20%20%20%20%20%20%20%20%20%20%20%20%20%20%20%20%7B%22sticky%22%3A%20true%7D%0A%20%20%20%20%20%20%20%20%20%20%20%20%29%3B%0A%20%20%20%20%20%20%20%20%0A%3C/script%3E onload=\"this.contentDocument.open();this.contentDocument.write(    decodeURIComponent(this.getAttribute('data-html')));this.contentDocument.close();\" allowfullscreen webkitallowfullscreen mozallowfullscreen></iframe></div></div>"
      ],
      "text/plain": [
       "<folium.folium.Map at 0x1f0a66f1788>"
      ]
     },
     "execution_count": 5,
     "metadata": {},
     "output_type": "execute_result"
    }
   ],
   "source": [
    "import folium\n",
    "\n",
    "\n",
    "m = folium.Map(location=[lat, lng],\n",
    "               zoom_start=17, \n",
    "               width=750, \n",
    "               height=500\n",
    "              )\n",
    "\n",
    "folium.Marker([lat, lng],\n",
    "              popup=\"판교역\",\n",
    "              tooltip=\"판교역 입구\").add_to(m)\n",
    "m"
   ]
  },
  {
   "cell_type": "markdown",
   "id": "64c5ac0e",
   "metadata": {},
   "source": [
    "위의 기능들을 하나로 묶어 함수를 생성합니다."
   ]
  },
  {
   "cell_type": "code",
   "execution_count": 6,
   "id": "1cd53aa9",
   "metadata": {},
   "outputs": [],
   "source": [
    "def viz_map(place):\n",
    "    # 코드입력\n",
    "    \n",
    "\n",
    "    # folium 시각화\n",
    "    m = folium.Map(location=[lat, lng],\n",
    "                   zoom_start=17, \n",
    "                   width=750, \n",
    "                   height=500\n",
    "                  )\n",
    "\n",
    "    folium.Marker([lat, lng],\n",
    "                  popup=place).add_to(m)\n",
    "    return m"
   ]
  },
  {
   "cell_type": "code",
   "execution_count": 7,
   "id": "f6f5973a",
   "metadata": {},
   "outputs": [
    {
     "name": "stdout",
     "output_type": "stream",
     "text": [
      "위도: 37.570, 경도: 126.983\n"
     ]
    },
    {
     "data": {
      "text/html": [
       "<div style=\"width:100%;\"><div style=\"position:relative;width:100%;height:0;padding-bottom:60%;\"><span style=\"color:#565656\">Make this Notebook Trusted to load map: File -> Trust Notebook</span><iframe src=\"about:blank\" style=\"position:absolute;width:100%;height:100%;left:0;top:0;border:none !important;\" data-html=%3C%21DOCTYPE%20html%3E%0A%3Chead%3E%20%20%20%20%0A%20%20%20%20%3Cmeta%20http-equiv%3D%22content-type%22%20content%3D%22text/html%3B%20charset%3DUTF-8%22%20/%3E%0A%20%20%20%20%0A%20%20%20%20%20%20%20%20%3Cscript%3E%0A%20%20%20%20%20%20%20%20%20%20%20%20L_NO_TOUCH%20%3D%20false%3B%0A%20%20%20%20%20%20%20%20%20%20%20%20L_DISABLE_3D%20%3D%20false%3B%0A%20%20%20%20%20%20%20%20%3C/script%3E%0A%20%20%20%20%0A%20%20%20%20%3Cstyle%3Ehtml%2C%20body%20%7Bwidth%3A%20100%25%3Bheight%3A%20100%25%3Bmargin%3A%200%3Bpadding%3A%200%3B%7D%3C/style%3E%0A%20%20%20%20%3Cstyle%3E%23map%20%7Bposition%3Aabsolute%3Btop%3A0%3Bbottom%3A0%3Bright%3A0%3Bleft%3A0%3B%7D%3C/style%3E%0A%20%20%20%20%3Cscript%20src%3D%22https%3A//cdn.jsdelivr.net/npm/leaflet%401.6.0/dist/leaflet.js%22%3E%3C/script%3E%0A%20%20%20%20%3Cscript%20src%3D%22https%3A//code.jquery.com/jquery-1.12.4.min.js%22%3E%3C/script%3E%0A%20%20%20%20%3Cscript%20src%3D%22https%3A//maxcdn.bootstrapcdn.com/bootstrap/3.2.0/js/bootstrap.min.js%22%3E%3C/script%3E%0A%20%20%20%20%3Cscript%20src%3D%22https%3A//cdnjs.cloudflare.com/ajax/libs/Leaflet.awesome-markers/2.0.2/leaflet.awesome-markers.js%22%3E%3C/script%3E%0A%20%20%20%20%3Clink%20rel%3D%22stylesheet%22%20href%3D%22https%3A//cdn.jsdelivr.net/npm/leaflet%401.6.0/dist/leaflet.css%22/%3E%0A%20%20%20%20%3Clink%20rel%3D%22stylesheet%22%20href%3D%22https%3A//maxcdn.bootstrapcdn.com/bootstrap/3.2.0/css/bootstrap.min.css%22/%3E%0A%20%20%20%20%3Clink%20rel%3D%22stylesheet%22%20href%3D%22https%3A//maxcdn.bootstrapcdn.com/bootstrap/3.2.0/css/bootstrap-theme.min.css%22/%3E%0A%20%20%20%20%3Clink%20rel%3D%22stylesheet%22%20href%3D%22https%3A//maxcdn.bootstrapcdn.com/font-awesome/4.6.3/css/font-awesome.min.css%22/%3E%0A%20%20%20%20%3Clink%20rel%3D%22stylesheet%22%20href%3D%22https%3A//cdnjs.cloudflare.com/ajax/libs/Leaflet.awesome-markers/2.0.2/leaflet.awesome-markers.css%22/%3E%0A%20%20%20%20%3Clink%20rel%3D%22stylesheet%22%20href%3D%22https%3A//cdn.jsdelivr.net/gh/python-visualization/folium/folium/templates/leaflet.awesome.rotate.min.css%22/%3E%0A%20%20%20%20%0A%20%20%20%20%20%20%20%20%20%20%20%20%3Cmeta%20name%3D%22viewport%22%20content%3D%22width%3Ddevice-width%2C%0A%20%20%20%20%20%20%20%20%20%20%20%20%20%20%20%20initial-scale%3D1.0%2C%20maximum-scale%3D1.0%2C%20user-scalable%3Dno%22%20/%3E%0A%20%20%20%20%20%20%20%20%20%20%20%20%3Cstyle%3E%0A%20%20%20%20%20%20%20%20%20%20%20%20%20%20%20%20%23map_be6ccfd4fe8649c08debb4f46a78f5d5%20%7B%0A%20%20%20%20%20%20%20%20%20%20%20%20%20%20%20%20%20%20%20%20position%3A%20relative%3B%0A%20%20%20%20%20%20%20%20%20%20%20%20%20%20%20%20%20%20%20%20width%3A%20750.0px%3B%0A%20%20%20%20%20%20%20%20%20%20%20%20%20%20%20%20%20%20%20%20height%3A%20500.0px%3B%0A%20%20%20%20%20%20%20%20%20%20%20%20%20%20%20%20%20%20%20%20left%3A%200.0%25%3B%0A%20%20%20%20%20%20%20%20%20%20%20%20%20%20%20%20%20%20%20%20top%3A%200.0%25%3B%0A%20%20%20%20%20%20%20%20%20%20%20%20%20%20%20%20%7D%0A%20%20%20%20%20%20%20%20%20%20%20%20%3C/style%3E%0A%20%20%20%20%20%20%20%20%0A%3C/head%3E%0A%3Cbody%3E%20%20%20%20%0A%20%20%20%20%0A%20%20%20%20%20%20%20%20%20%20%20%20%3Cdiv%20class%3D%22folium-map%22%20id%3D%22map_be6ccfd4fe8649c08debb4f46a78f5d5%22%20%3E%3C/div%3E%0A%20%20%20%20%20%20%20%20%0A%3C/body%3E%0A%3Cscript%3E%20%20%20%20%0A%20%20%20%20%0A%20%20%20%20%20%20%20%20%20%20%20%20var%20map_be6ccfd4fe8649c08debb4f46a78f5d5%20%3D%20L.map%28%0A%20%20%20%20%20%20%20%20%20%20%20%20%20%20%20%20%22map_be6ccfd4fe8649c08debb4f46a78f5d5%22%2C%0A%20%20%20%20%20%20%20%20%20%20%20%20%20%20%20%20%7B%0A%20%20%20%20%20%20%20%20%20%20%20%20%20%20%20%20%20%20%20%20center%3A%20%5B37.570176%2C%20126.983197%5D%2C%0A%20%20%20%20%20%20%20%20%20%20%20%20%20%20%20%20%20%20%20%20crs%3A%20L.CRS.EPSG3857%2C%0A%20%20%20%20%20%20%20%20%20%20%20%20%20%20%20%20%20%20%20%20zoom%3A%2017%2C%0A%20%20%20%20%20%20%20%20%20%20%20%20%20%20%20%20%20%20%20%20zoomControl%3A%20true%2C%0A%20%20%20%20%20%20%20%20%20%20%20%20%20%20%20%20%20%20%20%20preferCanvas%3A%20false%2C%0A%20%20%20%20%20%20%20%20%20%20%20%20%20%20%20%20%7D%0A%20%20%20%20%20%20%20%20%20%20%20%20%29%3B%0A%0A%20%20%20%20%20%20%20%20%20%20%20%20%0A%0A%20%20%20%20%20%20%20%20%0A%20%20%20%20%0A%20%20%20%20%20%20%20%20%20%20%20%20var%20tile_layer_63099a88f2414f21a515be816ca10fd6%20%3D%20L.tileLayer%28%0A%20%20%20%20%20%20%20%20%20%20%20%20%20%20%20%20%22https%3A//%7Bs%7D.tile.openstreetmap.org/%7Bz%7D/%7Bx%7D/%7By%7D.png%22%2C%0A%20%20%20%20%20%20%20%20%20%20%20%20%20%20%20%20%7B%22attribution%22%3A%20%22Data%20by%20%5Cu0026copy%3B%20%5Cu003ca%20href%3D%5C%22http%3A//openstreetmap.org%5C%22%5Cu003eOpenStreetMap%5Cu003c/a%5Cu003e%2C%20under%20%5Cu003ca%20href%3D%5C%22http%3A//www.openstreetmap.org/copyright%5C%22%5Cu003eODbL%5Cu003c/a%5Cu003e.%22%2C%20%22detectRetina%22%3A%20false%2C%20%22maxNativeZoom%22%3A%2018%2C%20%22maxZoom%22%3A%2018%2C%20%22minZoom%22%3A%200%2C%20%22noWrap%22%3A%20false%2C%20%22opacity%22%3A%201%2C%20%22subdomains%22%3A%20%22abc%22%2C%20%22tms%22%3A%20false%7D%0A%20%20%20%20%20%20%20%20%20%20%20%20%29.addTo%28map_be6ccfd4fe8649c08debb4f46a78f5d5%29%3B%0A%20%20%20%20%20%20%20%20%0A%20%20%20%20%0A%20%20%20%20%20%20%20%20%20%20%20%20var%20marker_3780090c7bc64f55a8577a86215aae32%20%3D%20L.marker%28%0A%20%20%20%20%20%20%20%20%20%20%20%20%20%20%20%20%5B37.570176%2C%20126.983197%5D%2C%0A%20%20%20%20%20%20%20%20%20%20%20%20%20%20%20%20%7B%7D%0A%20%20%20%20%20%20%20%20%20%20%20%20%29.addTo%28map_be6ccfd4fe8649c08debb4f46a78f5d5%29%3B%0A%20%20%20%20%20%20%20%20%0A%20%20%20%20%0A%20%20%20%20%20%20%20%20var%20popup_ba238c52c15445079a43c03b9e3570a0%20%3D%20L.popup%28%7B%22maxWidth%22%3A%20%22100%25%22%7D%29%3B%0A%0A%20%20%20%20%20%20%20%20%0A%20%20%20%20%20%20%20%20%20%20%20%20var%20html_9e7d1bcefcff419083794c170377ea04%20%3D%20%24%28%60%3Cdiv%20id%3D%22html_9e7d1bcefcff419083794c170377ea04%22%20style%3D%22width%3A%20100.0%25%3B%20height%3A%20100.0%25%3B%22%3E%EC%A2%85%EA%B0%81%EC%97%AD%3C/div%3E%60%29%5B0%5D%3B%0A%20%20%20%20%20%20%20%20%20%20%20%20popup_ba238c52c15445079a43c03b9e3570a0.setContent%28html_9e7d1bcefcff419083794c170377ea04%29%3B%0A%20%20%20%20%20%20%20%20%0A%0A%20%20%20%20%20%20%20%20marker_3780090c7bc64f55a8577a86215aae32.bindPopup%28popup_ba238c52c15445079a43c03b9e3570a0%29%0A%20%20%20%20%20%20%20%20%3B%0A%0A%20%20%20%20%20%20%20%20%0A%20%20%20%20%0A%3C/script%3E onload=\"this.contentDocument.open();this.contentDocument.write(    decodeURIComponent(this.getAttribute('data-html')));this.contentDocument.close();\" allowfullscreen webkitallowfullscreen mozallowfullscreen></iframe></div></div>"
      ],
      "text/plain": [
       "<folium.folium.Map at 0x1f0a66bbe08>"
      ]
     },
     "execution_count": 7,
     "metadata": {},
     "output_type": "execute_result"
    }
   ],
   "source": [
    "viz_map('종각역')"
   ]
  },
  {
   "cell_type": "markdown",
   "id": "7a740afc",
   "metadata": {},
   "source": [
    "## 공공데이터 다운로드 및 주소 데이터 전처리"
   ]
  },
  {
   "cell_type": "code",
   "execution_count": 8,
   "id": "083b107a",
   "metadata": {},
   "outputs": [],
   "source": [
    "import pandas as pd\n",
    "import numpy as np\n",
    "import os\n",
    "\n",
    "DATA = 'data'"
   ]
  },
  {
   "cell_type": "markdown",
   "id": "71ba8f7d",
   "metadata": {},
   "source": [
    "[서울교통공사 역주소 데이터 다운로드](http://data.seoul.go.kr/dataList/OA-12035/S/1/datasetView.do;jsessionid=7C7AC42AD377ADC8D042A39DAF162243.new_portal-svr-11)"
   ]
  },
  {
   "cell_type": "code",
   "execution_count": 13,
   "id": "78c14a6e",
   "metadata": {},
   "outputs": [
    {
     "name": "stdout",
     "output_type": "stream",
     "text": [
      "======= 다운로드 시작 =======\n",
      "\n",
      "data\\서울교통공사_역주소.csv\n"
     ]
    },
    {
     "data": {
      "application/vnd.jupyter.widget-view+json": {
       "model_id": "9ad4fa4767d64cd7a6d6b589ec34751c",
       "version_major": 2,
       "version_minor": 0
      },
      "text/plain": [
       "  0%|          | 0.00/29.6k [00:00<?, ?B/s]"
      ]
     },
     "metadata": {},
     "output_type": "display_data"
    },
    {
     "name": "stdout",
     "output_type": "stream",
     "text": [
      "\n",
      "======= 다운로드 완료 =======\n"
     ]
    }
   ],
   "source": [
    "from teddynote import dataset\n",
    "\n",
    "dataset.download('역주소전화번호')"
   ]
  },
  {
   "cell_type": "code",
   "execution_count": 15,
   "id": "c23ec4ee",
   "metadata": {},
   "outputs": [
    {
     "data": {
      "text/plain": [
       "'data\\\\서울교통공사_역주소.csv'"
      ]
     },
     "execution_count": 15,
     "metadata": {},
     "output_type": "execute_result"
    }
   ],
   "source": [
    "filepath = os.path.join(DATA, '서울교통공사_역주소.csv')\n",
    "filepath"
   ]
  },
  {
   "cell_type": "markdown",
   "id": "405037b0",
   "metadata": {},
   "source": [
    "`서울교통공사_역주소.xlsx` 데이터셋을 로드합니다."
   ]
  },
  {
   "cell_type": "code",
   "execution_count": 16,
   "id": "a6f9699e",
   "metadata": {},
   "outputs": [
    {
     "data": {
      "text/html": [
       "<div>\n",
       "<style scoped>\n",
       "    .dataframe tbody tr th:only-of-type {\n",
       "        vertical-align: middle;\n",
       "    }\n",
       "\n",
       "    .dataframe tbody tr th {\n",
       "        vertical-align: top;\n",
       "    }\n",
       "\n",
       "    .dataframe thead th {\n",
       "        text-align: right;\n",
       "    }\n",
       "</style>\n",
       "<table border=\"1\" class=\"dataframe\">\n",
       "  <thead>\n",
       "    <tr style=\"text-align: right;\">\n",
       "      <th></th>\n",
       "      <th>연번</th>\n",
       "      <th>역번호</th>\n",
       "      <th>호선</th>\n",
       "      <th>역명</th>\n",
       "      <th>역전화번호</th>\n",
       "      <th>역주소</th>\n",
       "    </tr>\n",
       "  </thead>\n",
       "  <tbody>\n",
       "    <tr>\n",
       "      <th>0</th>\n",
       "      <td>1</td>\n",
       "      <td>150</td>\n",
       "      <td>1</td>\n",
       "      <td>서울역</td>\n",
       "      <td>02-6110-1331</td>\n",
       "      <td>서울특별시 중구 세종대로 지하 2 (남대문로 5가)</td>\n",
       "    </tr>\n",
       "    <tr>\n",
       "      <th>1</th>\n",
       "      <td>2</td>\n",
       "      <td>151</td>\n",
       "      <td>1</td>\n",
       "      <td>시청</td>\n",
       "      <td>02-6110-1321</td>\n",
       "      <td>서울특별시 중구 세종대로 지하 101 (정동)</td>\n",
       "    </tr>\n",
       "    <tr>\n",
       "      <th>2</th>\n",
       "      <td>3</td>\n",
       "      <td>152</td>\n",
       "      <td>1</td>\n",
       "      <td>종각</td>\n",
       "      <td>02-6110-1311</td>\n",
       "      <td>서울특별시 종로구 종로 지하 55 (종로1가)</td>\n",
       "    </tr>\n",
       "    <tr>\n",
       "      <th>3</th>\n",
       "      <td>4</td>\n",
       "      <td>153</td>\n",
       "      <td>1</td>\n",
       "      <td>종로3가</td>\n",
       "      <td>02-6110-1301</td>\n",
       "      <td>서울특별시 종로구 종로 지하 129 (종로3가)</td>\n",
       "    </tr>\n",
       "    <tr>\n",
       "      <th>4</th>\n",
       "      <td>5</td>\n",
       "      <td>154</td>\n",
       "      <td>1</td>\n",
       "      <td>종로5가</td>\n",
       "      <td>02-6110-1291</td>\n",
       "      <td>서울특별시 종로구 종로 지하 216  (종로5가)</td>\n",
       "    </tr>\n",
       "  </tbody>\n",
       "</table>\n",
       "</div>"
      ],
      "text/plain": [
       "   연번  역번호  호선    역명         역전화번호                           역주소\n",
       "0   1  150   1   서울역  02-6110-1331  서울특별시 중구 세종대로 지하 2 (남대문로 5가)\n",
       "1   2  151   1    시청  02-6110-1321     서울특별시 중구 세종대로 지하 101 (정동)\n",
       "2   3  152   1    종각  02-6110-1311     서울특별시 종로구 종로 지하 55 (종로1가)\n",
       "3   4  153   1  종로3가  02-6110-1301    서울특별시 종로구 종로 지하 129 (종로3가)\n",
       "4   5  154   1  종로5가  02-6110-1291   서울특별시 종로구 종로 지하 216  (종로5가)"
      ]
     },
     "execution_count": 16,
     "metadata": {},
     "output_type": "execute_result"
    }
   ],
   "source": [
    "address = \n",
    "address.head()"
   ]
  },
  {
   "cell_type": "markdown",
   "id": "8a13572a",
   "metadata": {},
   "source": [
    "**역명** 중복 값을 제거합니다."
   ]
  },
  {
   "cell_type": "code",
   "execution_count": 17,
   "id": "219cf888",
   "metadata": {},
   "outputs": [
    {
     "data": {
      "text/html": [
       "<div>\n",
       "<style scoped>\n",
       "    .dataframe tbody tr th:only-of-type {\n",
       "        vertical-align: middle;\n",
       "    }\n",
       "\n",
       "    .dataframe tbody tr th {\n",
       "        vertical-align: top;\n",
       "    }\n",
       "\n",
       "    .dataframe thead th {\n",
       "        text-align: right;\n",
       "    }\n",
       "</style>\n",
       "<table border=\"1\" class=\"dataframe\">\n",
       "  <thead>\n",
       "    <tr style=\"text-align: right;\">\n",
       "      <th></th>\n",
       "      <th>연번</th>\n",
       "      <th>역번호</th>\n",
       "      <th>호선</th>\n",
       "      <th>역명</th>\n",
       "      <th>역전화번호</th>\n",
       "      <th>역주소</th>\n",
       "    </tr>\n",
       "  </thead>\n",
       "  <tbody>\n",
       "    <tr>\n",
       "      <th>0</th>\n",
       "      <td>1</td>\n",
       "      <td>150</td>\n",
       "      <td>1</td>\n",
       "      <td>서울역</td>\n",
       "      <td>02-6110-1331</td>\n",
       "      <td>서울특별시 중구 세종대로 지하 2 (남대문로 5가)</td>\n",
       "    </tr>\n",
       "    <tr>\n",
       "      <th>1</th>\n",
       "      <td>2</td>\n",
       "      <td>151</td>\n",
       "      <td>1</td>\n",
       "      <td>시청</td>\n",
       "      <td>02-6110-1321</td>\n",
       "      <td>서울특별시 중구 세종대로 지하 101 (정동)</td>\n",
       "    </tr>\n",
       "    <tr>\n",
       "      <th>2</th>\n",
       "      <td>3</td>\n",
       "      <td>152</td>\n",
       "      <td>1</td>\n",
       "      <td>종각</td>\n",
       "      <td>02-6110-1311</td>\n",
       "      <td>서울특별시 종로구 종로 지하 55 (종로1가)</td>\n",
       "    </tr>\n",
       "    <tr>\n",
       "      <th>3</th>\n",
       "      <td>4</td>\n",
       "      <td>153</td>\n",
       "      <td>1</td>\n",
       "      <td>종로3가</td>\n",
       "      <td>02-6110-1301</td>\n",
       "      <td>서울특별시 종로구 종로 지하 129 (종로3가)</td>\n",
       "    </tr>\n",
       "    <tr>\n",
       "      <th>4</th>\n",
       "      <td>5</td>\n",
       "      <td>154</td>\n",
       "      <td>1</td>\n",
       "      <td>종로5가</td>\n",
       "      <td>02-6110-1291</td>\n",
       "      <td>서울특별시 종로구 종로 지하 216  (종로5가)</td>\n",
       "    </tr>\n",
       "    <tr>\n",
       "      <th>...</th>\n",
       "      <td>...</td>\n",
       "      <td>...</td>\n",
       "      <td>...</td>\n",
       "      <td>...</td>\n",
       "      <td>...</td>\n",
       "      <td>...</td>\n",
       "    </tr>\n",
       "    <tr>\n",
       "      <th>285</th>\n",
       "      <td>286</td>\n",
       "      <td>4132</td>\n",
       "      <td>9</td>\n",
       "      <td>석촌고분</td>\n",
       "      <td>02-2656-0932</td>\n",
       "      <td>서울특별시 송파구 삼학사로 53</td>\n",
       "    </tr>\n",
       "    <tr>\n",
       "      <th>287</th>\n",
       "      <td>288</td>\n",
       "      <td>4134</td>\n",
       "      <td>9</td>\n",
       "      <td>송파나루</td>\n",
       "      <td>02-2656-0934</td>\n",
       "      <td>서울특별시 송파구 오금로 165</td>\n",
       "    </tr>\n",
       "    <tr>\n",
       "      <th>288</th>\n",
       "      <td>289</td>\n",
       "      <td>4135</td>\n",
       "      <td>9</td>\n",
       "      <td>한성백제</td>\n",
       "      <td>02-2656-0935</td>\n",
       "      <td>서울특별시 송파구 위례성대로 51</td>\n",
       "    </tr>\n",
       "    <tr>\n",
       "      <th>290</th>\n",
       "      <td>291</td>\n",
       "      <td>4137</td>\n",
       "      <td>9</td>\n",
       "      <td>둔촌오륜</td>\n",
       "      <td>02-2656-0937</td>\n",
       "      <td>서울특별시 송파구 강동대로 327</td>\n",
       "    </tr>\n",
       "    <tr>\n",
       "      <th>291</th>\n",
       "      <td>292</td>\n",
       "      <td>4138</td>\n",
       "      <td>9</td>\n",
       "      <td>중앙보훈병원</td>\n",
       "      <td>02-2656-0938</td>\n",
       "      <td>서울특별시 강동구 명일로 117</td>\n",
       "    </tr>\n",
       "  </tbody>\n",
       "</table>\n",
       "<p>253 rows × 6 columns</p>\n",
       "</div>"
      ],
      "text/plain": [
       "      연번   역번호  호선      역명         역전화번호                           역주소\n",
       "0      1   150   1     서울역  02-6110-1331  서울특별시 중구 세종대로 지하 2 (남대문로 5가)\n",
       "1      2   151   1      시청  02-6110-1321     서울특별시 중구 세종대로 지하 101 (정동)\n",
       "2      3   152   1      종각  02-6110-1311     서울특별시 종로구 종로 지하 55 (종로1가)\n",
       "3      4   153   1    종로3가  02-6110-1301    서울특별시 종로구 종로 지하 129 (종로3가)\n",
       "4      5   154   1    종로5가  02-6110-1291   서울특별시 종로구 종로 지하 216  (종로5가)\n",
       "..   ...   ...  ..     ...           ...                           ...\n",
       "285  286  4132   9    석촌고분  02-2656-0932             서울특별시 송파구 삼학사로 53\n",
       "287  288  4134   9    송파나루  02-2656-0934             서울특별시 송파구 오금로 165\n",
       "288  289  4135   9    한성백제  02-2656-0935            서울특별시 송파구 위례성대로 51\n",
       "290  291  4137   9    둔촌오륜  02-2656-0937            서울특별시 송파구 강동대로 327\n",
       "291  292  4138   9  중앙보훈병원  02-2656-0938             서울특별시 강동구 명일로 117\n",
       "\n",
       "[253 rows x 6 columns]"
      ]
     },
     "execution_count": 17,
     "metadata": {},
     "output_type": "execute_result"
    }
   ],
   "source": [
    "# 코드입력\n",
    "address = address.drop_duplicates('역명')\n",
    "address"
   ]
  },
  {
   "cell_type": "markdown",
   "id": "223df6ad",
   "metadata": {},
   "source": [
    "**역주소** 데이터를 `geocode`에 적용하여 위/경도 좌표계를 구합니다."
   ]
  },
  {
   "cell_type": "code",
   "execution_count": 18,
   "id": "6baf5db8",
   "metadata": {},
   "outputs": [
    {
     "data": {
      "text/plain": [
       "'서울특별시 중구 세종대로 지하 2 (남대문로 5가)'"
      ]
     },
     "execution_count": 18,
     "metadata": {},
     "output_type": "execute_result"
    }
   ],
   "source": [
    "address['역주소'][0]"
   ]
  },
  {
   "cell_type": "code",
   "execution_count": 19,
   "id": "8419ee6f",
   "metadata": {},
   "outputs": [
    {
     "name": "stdout",
     "output_type": "stream",
     "text": [
      "위도: 37.558, 경도: 126.975\n"
     ]
    },
    {
     "data": {
      "text/html": [
       "<div style=\"width:100%;\"><div style=\"position:relative;width:100%;height:0;padding-bottom:60%;\"><span style=\"color:#565656\">Make this Notebook Trusted to load map: File -> Trust Notebook</span><iframe src=\"about:blank\" style=\"position:absolute;width:100%;height:100%;left:0;top:0;border:none !important;\" data-html=%3C%21DOCTYPE%20html%3E%0A%3Chead%3E%20%20%20%20%0A%20%20%20%20%3Cmeta%20http-equiv%3D%22content-type%22%20content%3D%22text/html%3B%20charset%3DUTF-8%22%20/%3E%0A%20%20%20%20%0A%20%20%20%20%20%20%20%20%3Cscript%3E%0A%20%20%20%20%20%20%20%20%20%20%20%20L_NO_TOUCH%20%3D%20false%3B%0A%20%20%20%20%20%20%20%20%20%20%20%20L_DISABLE_3D%20%3D%20false%3B%0A%20%20%20%20%20%20%20%20%3C/script%3E%0A%20%20%20%20%0A%20%20%20%20%3Cstyle%3Ehtml%2C%20body%20%7Bwidth%3A%20100%25%3Bheight%3A%20100%25%3Bmargin%3A%200%3Bpadding%3A%200%3B%7D%3C/style%3E%0A%20%20%20%20%3Cstyle%3E%23map%20%7Bposition%3Aabsolute%3Btop%3A0%3Bbottom%3A0%3Bright%3A0%3Bleft%3A0%3B%7D%3C/style%3E%0A%20%20%20%20%3Cscript%20src%3D%22https%3A//cdn.jsdelivr.net/npm/leaflet%401.6.0/dist/leaflet.js%22%3E%3C/script%3E%0A%20%20%20%20%3Cscript%20src%3D%22https%3A//code.jquery.com/jquery-1.12.4.min.js%22%3E%3C/script%3E%0A%20%20%20%20%3Cscript%20src%3D%22https%3A//maxcdn.bootstrapcdn.com/bootstrap/3.2.0/js/bootstrap.min.js%22%3E%3C/script%3E%0A%20%20%20%20%3Cscript%20src%3D%22https%3A//cdnjs.cloudflare.com/ajax/libs/Leaflet.awesome-markers/2.0.2/leaflet.awesome-markers.js%22%3E%3C/script%3E%0A%20%20%20%20%3Clink%20rel%3D%22stylesheet%22%20href%3D%22https%3A//cdn.jsdelivr.net/npm/leaflet%401.6.0/dist/leaflet.css%22/%3E%0A%20%20%20%20%3Clink%20rel%3D%22stylesheet%22%20href%3D%22https%3A//maxcdn.bootstrapcdn.com/bootstrap/3.2.0/css/bootstrap.min.css%22/%3E%0A%20%20%20%20%3Clink%20rel%3D%22stylesheet%22%20href%3D%22https%3A//maxcdn.bootstrapcdn.com/bootstrap/3.2.0/css/bootstrap-theme.min.css%22/%3E%0A%20%20%20%20%3Clink%20rel%3D%22stylesheet%22%20href%3D%22https%3A//maxcdn.bootstrapcdn.com/font-awesome/4.6.3/css/font-awesome.min.css%22/%3E%0A%20%20%20%20%3Clink%20rel%3D%22stylesheet%22%20href%3D%22https%3A//cdnjs.cloudflare.com/ajax/libs/Leaflet.awesome-markers/2.0.2/leaflet.awesome-markers.css%22/%3E%0A%20%20%20%20%3Clink%20rel%3D%22stylesheet%22%20href%3D%22https%3A//cdn.jsdelivr.net/gh/python-visualization/folium/folium/templates/leaflet.awesome.rotate.min.css%22/%3E%0A%20%20%20%20%0A%20%20%20%20%20%20%20%20%20%20%20%20%3Cmeta%20name%3D%22viewport%22%20content%3D%22width%3Ddevice-width%2C%0A%20%20%20%20%20%20%20%20%20%20%20%20%20%20%20%20initial-scale%3D1.0%2C%20maximum-scale%3D1.0%2C%20user-scalable%3Dno%22%20/%3E%0A%20%20%20%20%20%20%20%20%20%20%20%20%3Cstyle%3E%0A%20%20%20%20%20%20%20%20%20%20%20%20%20%20%20%20%23map_aa0e6620e98e461f8dca7ef321709507%20%7B%0A%20%20%20%20%20%20%20%20%20%20%20%20%20%20%20%20%20%20%20%20position%3A%20relative%3B%0A%20%20%20%20%20%20%20%20%20%20%20%20%20%20%20%20%20%20%20%20width%3A%20750.0px%3B%0A%20%20%20%20%20%20%20%20%20%20%20%20%20%20%20%20%20%20%20%20height%3A%20500.0px%3B%0A%20%20%20%20%20%20%20%20%20%20%20%20%20%20%20%20%20%20%20%20left%3A%200.0%25%3B%0A%20%20%20%20%20%20%20%20%20%20%20%20%20%20%20%20%20%20%20%20top%3A%200.0%25%3B%0A%20%20%20%20%20%20%20%20%20%20%20%20%20%20%20%20%7D%0A%20%20%20%20%20%20%20%20%20%20%20%20%3C/style%3E%0A%20%20%20%20%20%20%20%20%0A%3C/head%3E%0A%3Cbody%3E%20%20%20%20%0A%20%20%20%20%0A%20%20%20%20%20%20%20%20%20%20%20%20%3Cdiv%20class%3D%22folium-map%22%20id%3D%22map_aa0e6620e98e461f8dca7ef321709507%22%20%3E%3C/div%3E%0A%20%20%20%20%20%20%20%20%0A%3C/body%3E%0A%3Cscript%3E%20%20%20%20%0A%20%20%20%20%0A%20%20%20%20%20%20%20%20%20%20%20%20var%20map_aa0e6620e98e461f8dca7ef321709507%20%3D%20L.map%28%0A%20%20%20%20%20%20%20%20%20%20%20%20%20%20%20%20%22map_aa0e6620e98e461f8dca7ef321709507%22%2C%0A%20%20%20%20%20%20%20%20%20%20%20%20%20%20%20%20%7B%0A%20%20%20%20%20%20%20%20%20%20%20%20%20%20%20%20%20%20%20%20center%3A%20%5B37.5583212%2C%20126.9745389%5D%2C%0A%20%20%20%20%20%20%20%20%20%20%20%20%20%20%20%20%20%20%20%20crs%3A%20L.CRS.EPSG3857%2C%0A%20%20%20%20%20%20%20%20%20%20%20%20%20%20%20%20%20%20%20%20zoom%3A%2017%2C%0A%20%20%20%20%20%20%20%20%20%20%20%20%20%20%20%20%20%20%20%20zoomControl%3A%20true%2C%0A%20%20%20%20%20%20%20%20%20%20%20%20%20%20%20%20%20%20%20%20preferCanvas%3A%20false%2C%0A%20%20%20%20%20%20%20%20%20%20%20%20%20%20%20%20%7D%0A%20%20%20%20%20%20%20%20%20%20%20%20%29%3B%0A%0A%20%20%20%20%20%20%20%20%20%20%20%20%0A%0A%20%20%20%20%20%20%20%20%0A%20%20%20%20%0A%20%20%20%20%20%20%20%20%20%20%20%20var%20tile_layer_a1071e174b994344aaa31bc6f1e5d595%20%3D%20L.tileLayer%28%0A%20%20%20%20%20%20%20%20%20%20%20%20%20%20%20%20%22https%3A//%7Bs%7D.tile.openstreetmap.org/%7Bz%7D/%7Bx%7D/%7By%7D.png%22%2C%0A%20%20%20%20%20%20%20%20%20%20%20%20%20%20%20%20%7B%22attribution%22%3A%20%22Data%20by%20%5Cu0026copy%3B%20%5Cu003ca%20href%3D%5C%22http%3A//openstreetmap.org%5C%22%5Cu003eOpenStreetMap%5Cu003c/a%5Cu003e%2C%20under%20%5Cu003ca%20href%3D%5C%22http%3A//www.openstreetmap.org/copyright%5C%22%5Cu003eODbL%5Cu003c/a%5Cu003e.%22%2C%20%22detectRetina%22%3A%20false%2C%20%22maxNativeZoom%22%3A%2018%2C%20%22maxZoom%22%3A%2018%2C%20%22minZoom%22%3A%200%2C%20%22noWrap%22%3A%20false%2C%20%22opacity%22%3A%201%2C%20%22subdomains%22%3A%20%22abc%22%2C%20%22tms%22%3A%20false%7D%0A%20%20%20%20%20%20%20%20%20%20%20%20%29.addTo%28map_aa0e6620e98e461f8dca7ef321709507%29%3B%0A%20%20%20%20%20%20%20%20%0A%20%20%20%20%0A%20%20%20%20%20%20%20%20%20%20%20%20var%20marker_1c537cd1e3d74ccc87bc2d92c70e2058%20%3D%20L.marker%28%0A%20%20%20%20%20%20%20%20%20%20%20%20%20%20%20%20%5B37.5583212%2C%20126.9745389%5D%2C%0A%20%20%20%20%20%20%20%20%20%20%20%20%20%20%20%20%7B%7D%0A%20%20%20%20%20%20%20%20%20%20%20%20%29.addTo%28map_aa0e6620e98e461f8dca7ef321709507%29%3B%0A%20%20%20%20%20%20%20%20%0A%20%20%20%20%0A%20%20%20%20%20%20%20%20var%20popup_25f3268666104456b5a5127bc5e7e6c0%20%3D%20L.popup%28%7B%22maxWidth%22%3A%20%22100%25%22%7D%29%3B%0A%0A%20%20%20%20%20%20%20%20%0A%20%20%20%20%20%20%20%20%20%20%20%20var%20html_3fe6cf9c79984f27a8bd6d88e6c4f8cb%20%3D%20%24%28%60%3Cdiv%20id%3D%22html_3fe6cf9c79984f27a8bd6d88e6c4f8cb%22%20style%3D%22width%3A%20100.0%25%3B%20height%3A%20100.0%25%3B%22%3E%EC%84%9C%EC%9A%B8%ED%8A%B9%EB%B3%84%EC%8B%9C%20%EC%A4%91%EA%B5%AC%20%EC%84%B8%EC%A2%85%EB%8C%80%EB%A1%9C%20%EC%A7%80%ED%95%98%202%20%28%EB%82%A8%EB%8C%80%EB%AC%B8%EB%A1%9C%205%EA%B0%80%29%3C/div%3E%60%29%5B0%5D%3B%0A%20%20%20%20%20%20%20%20%20%20%20%20popup_25f3268666104456b5a5127bc5e7e6c0.setContent%28html_3fe6cf9c79984f27a8bd6d88e6c4f8cb%29%3B%0A%20%20%20%20%20%20%20%20%0A%0A%20%20%20%20%20%20%20%20marker_1c537cd1e3d74ccc87bc2d92c70e2058.bindPopup%28popup_25f3268666104456b5a5127bc5e7e6c0%29%0A%20%20%20%20%20%20%20%20%3B%0A%0A%20%20%20%20%20%20%20%20%0A%20%20%20%20%0A%3C/script%3E onload=\"this.contentDocument.open();this.contentDocument.write(    decodeURIComponent(this.getAttribute('data-html')));this.contentDocument.close();\" allowfullscreen webkitallowfullscreen mozallowfullscreen></iframe></div></div>"
      ],
      "text/plain": [
       "<folium.folium.Map at 0x1f0d859b8c8>"
      ]
     },
     "execution_count": 19,
     "metadata": {},
     "output_type": "execute_result"
    }
   ],
   "source": [
    "viz_map(address['역주소'][0])"
   ]
  },
  {
   "cell_type": "markdown",
   "id": "d9f415fa",
   "metadata": {},
   "source": [
    "역주소 끝에는 괄호안에 동이 같이 표기되어 있습니다."
   ]
  },
  {
   "cell_type": "code",
   "execution_count": 20,
   "id": "a61480f9",
   "metadata": {},
   "outputs": [
    {
     "data": {
      "text/plain": [
       "['서울특별시 중구 세종대로 지하 2 (남대문로 5가)',\n",
       " '서울특별시 중구 세종대로 지하 101 (정동)',\n",
       " '서울특별시 종로구 종로 지하 55 (종로1가)',\n",
       " '서울특별시 종로구 종로 지하 129 (종로3가)',\n",
       " '서울특별시 종로구 종로 지하 216  (종로5가)',\n",
       " '서울특별시 종로구 종로 지하 302 (창신동)',\n",
       " '서울특별시 동대문구 왕산로 지하 1 (신설동)',\n",
       " '서울특별시 동대문구 왕산로 지하 93 (제기동)',\n",
       " '서울특별시 동대문구 왕산로 지하 205(전농동)',\n",
       " '서울특별시 종로구 종로 359 (숭인동)',\n",
       " '서울특별시 강서구 강서로 지하54 (화곡동)',\n",
       " '서울특별시 중구 을지로 지하 42 (을지로1가)',\n",
       " '서울특별시 중구 을지로 지하 106 (을지로3가)',\n",
       " '서울특별시 중구 을지로 지하 178 (을지로4가)',\n",
       " '서울특별시 중구 을지로 지하 279 (을지로7가)',\n",
       " '서울특별시 중구 퇴계로 지하 431-1 (신당동)',\n",
       " '서울특별시 성동구 왕십리로 지하 374 (하왕십리동)',\n",
       " '서울특별시 성동구 왕십리로 지하300 (행당동)',\n",
       " '서울특별시 성동구 왕십리로 206 (행당동)',\n",
       " '서울특별시 성동구 아차산로 18 (성수동1가)',\n",
       " '서울특별시 성동구 아차산로 100 (성수동2가)',\n",
       " '서울특별시 광진구 아차산로 243 (화양동)',\n",
       " '서울특별시 광진구 아차산로 384-1 (구의동)',\n",
       " '서울특별시 광진구 강변역로 53 (구의동)',\n",
       " '서울특별시 송파구 오금로 20 (신천동)',\n",
       " '서울특별시 송파구 올림픽로 지하 265 (잠실동)',\n",
       " '서울특별시 송파구 올림픽로 지하 140 (잠실동)',\n",
       " '서울특별시 송파구 올림픽로 지하 23 (잠실동)',\n",
       " '서울특별시 강남구 테헤란로 지하 538 (삼성동)',\n",
       " '서울특별시 강남구 테헤란로 지하 340 (삼성동)',\n",
       " '서울특별시 강남구 테헤란로 지하 156 (역삼동)',\n",
       " '서울특별시 강남구 강남대로 지하 396 (역삼동)',\n",
       " '서울특별시 서초구 서초대로 지하 294 (서초동)',\n",
       " '서울특별시 서초구 서초대로 지하 233 (서초동)',\n",
       " '서울특별시 서초구 방배로 지하 80 (방배동)',\n",
       " '서울특별시 동작구 남부순환로 지하 2089 (사당동)',\n",
       " '서울특별시 관악구 남부순환로 지하 1928 (봉천동)',\n",
       " '서울특별시 관악구 남부순환로 지하 1822 (봉천동)',\n",
       " '서울특별시 관악구 남부순환로 지하 1721 (봉천동)',\n",
       " '서울특별시 관악구 남부순환로 지하 1614 (신림동)',\n",
       " '서울특별시 동작구 대림로 2 (신대방동)',\n",
       " '서울특별시 구로구 도림천로 477 (구로동)',\n",
       " '서울 구로구 구로6동 125-66',\n",
       " '서울특별시 구로구 새말로 지하 117-21 (신도림동)',\n",
       " '서울특별시 영등포구 당산로 지하 28 (문래동3가)',\n",
       " '서울특별시 영등포구 당산로 지하 121 (당산동3가)',\n",
       " '서울특별시 영등포구 당산로 229 (당산동 6가)',\n",
       " '서울특별시 마포구 양화로 지하 55 (서교동)',\n",
       " '서울특별시 마포구 양화로 지하160 (동교동)',\n",
       " '서울특별시 마포구 신촌로 지하 90 (노고산동)',\n",
       " '서울특별시 마포구 신촌로 지하 180 (염리동)',\n",
       " '서울특별시 마포구 신촌로 지하 270 (아현동)',\n",
       " '서울특별시 서대문구 서소문로 지하 17 (충정로3가)',\n",
       " '서울특별시 성동구 용답길 86 (용답동)',\n",
       " '서울특별시 성동구 천호대로 232 (용답동)',\n",
       " '서울특별시 구로구 경인로 67길 160 (신도림동)',\n",
       " '서울특별시 양천구 목동로3길 지하 33(신정동)',\n",
       " '서울특별시 양천구 중앙로 지하 261 (신정동)',\n",
       " '서울특별시 동대문구 천호대로 지하 129',\n",
       " '경기도 고양시 덕양구 삼송로 300 (지축동)',\n",
       " '서울특별시 은평구 진관2로 지하 15-25 (진관동)',\n",
       " '서울특별시 은평구 통일로 지하 849 (갈현동)',\n",
       " '서울특별시 은평구 통일로 지하 723-1 (대조동 / 3호선 불광역)',\n",
       " '서울특별시 은평구 통일로 지하 602-1 (녹번동)',\n",
       " '서울특별시 서대문구 통일로 지하 440-1 (홍제동)',\n",
       " '서울특별시 서대문구 통일로 지하 361 (홍제동)',\n",
       " '서울특별시 서대문구 통일로 지하 247 (현저동)',\n",
       " '서울특별시 종로구 사직로 지하 130 (적선동)',\n",
       " '서울특별시 종로구 율곡로 지하 62 (안국동)',\n",
       " '서울특별시 중구 퇴계로 지하 199 (필동2가)',\n",
       " '서울특별시 중구 동호로 지하 256 (장충동2가)',\n",
       " '서울특별시 중구 다산로 지하 122 (신당동)',\n",
       " '서울특별시 성동구 동호로 지하 104 (금호동4가)',\n",
       " '서울특별시 성동구 동호로 21 (옥수동) 옥수역',\n",
       " '서울특별시 강남구 압구정로 지하 172 (신사동)',\n",
       " '서울특별시 강남구 도산대로 지하 102 (신사동)',\n",
       " '서울특별시 서초구 잠원로 4길 지하 46 (잠원동)',\n",
       " '서울특별시 서초구 신반포로 지하 188 (반포동)',\n",
       " '서울특별시 서초구 서초중앙로 지하 31 (서초동)',\n",
       " '서울특별시 서초구 남부순환로 지하 2585 (서초동)',\n",
       " '서울특별시 강남구 남부순환로 지하 2744 (도곡동)',\n",
       " '서울특별시 강남구 남부순환로 지하 2814 (도곡동)',\n",
       " '서울특별시 강남구 남부순환로 지하 2952 (대치동)',\n",
       " '서울특별시 강남구 남부순환로 지하 3104 (대치동)',\n",
       " '서울특별시 강남구 일원로 지하 2 (일원동)',\n",
       " '서울특별시 강남구 일원로 지하 121 (일원동)',\n",
       " '서울특별시 강남구 광평로 지하 270 (수서동)',\n",
       " '서울특별시 송파구 송파대로 지하 257 (가락동)',\n",
       " '서울특별시 송파구 중대로 지하 149 (가락동)',\n",
       " '서울특별시 송파구 오금로 지하 321 (오금동)',\n",
       " '서울특별시 노원구 상계로 305 (상계동)',\n",
       " '서울특별시 노원구 상계로 182 (상계동)',\n",
       " '서울특별시 노원구 상계로 69-1 (상계동)',\n",
       " '서울특별시 도봉구 마들로 11길 77 (창동)',\n",
       " '서울특별시 도봉구 도봉로 지하 486-1 (창동)',\n",
       " '서울특별시 강북구 도봉로 지하 50 (미아동)',\n",
       " '서울특별시 강북구 도봉로 지하 198 (미아동)',\n",
       " '서울특별시 강북구 도봉로 지하 50 (미아동)',\n",
       " '서울특별시 성북구 동소문로 지하 248 (길음동)',\n",
       " '서울특별시 성북구 동소문로 지하 102 (동선동4가)',\n",
       " '서울특별시 성북구 삼선교로 지하1 (삼선동1가)',\n",
       " '서울특별시 종로구 대학로 지하 120 (동숭동)',\n",
       " '서울특별시 중구 퇴계로 지하 126 (충무로2가)',\n",
       " '서울특별시 중구 퇴계로 지하 54 (남창동)',\n",
       " '서울특별시 용산구 한강대로 지하 306',\n",
       " '서울특별시 용산구 한강대로 지하 180 (한강로1가)',\n",
       " '서울특별시 용산구 한강대로 지하 112 (한강로2가)',\n",
       " '서울특별시 용산구 용산동5가 17',\n",
       " '서울특별시 동작구 현충로 257 (동작동)',\n",
       " '서울특별시 동작구 동작대로 지하 117 (사당동)',\n",
       " '서울특별시 서초구 과천대로 지하 816 (방배동)',\n",
       " '서울특별시 강서구 금낭화로 지하132 (방화동)',\n",
       " '서울특별시 강서구 양천로 22(방화동)',\n",
       " '서울특별시 강서구 하늘길 지하77 (방화동)',\n",
       " '서울특별시 강서구 공항대로 지하33 (공항동)',\n",
       " '서울특별시 강서구 공항대로 지하163 (가양동)',\n",
       " '서울특별시 강서구 공항대로 지하267 (가양동)',\n",
       " '서울특별시 강서구 강서로 지하262 (화곡동)',\n",
       " '서울특별시 강서구 화곡로 지하168 (화곡동)',\n",
       " '서울특별시 양천구 오목로 지하179 (신정동)',\n",
       " '서울특별시 양천구 오목로 지하245 (목동)',\n",
       " '서울특별시 양천구 오목로 지하342 (목동)',\n",
       " '서울특별시 영등포구 양산로 지하21 (양평동2가)',\n",
       " '서울특별시 영등포구 양산로 지하200 (영등포동5가)',\n",
       " '서울특별시 영등포구 경인로114가길 지하9 (영등포동1가)',\n",
       " '서울특별시 영등포구 여의나루로 지하40 (여의도동)',\n",
       " '서울특별시 영등포구 여의동로 지하343 (여의도동)',\n",
       " '서울특별시 마포구 마포대로 지하33 (도화동)',\n",
       " '서울특별시 마포구 마포대로 지하100 (공덕동)',\n",
       " '서울특별시 마포구 마포대로 지하210 (아현동)',\n",
       " '서울특별시 종로구 통일로 지하126 (평동)',\n",
       " '서울특별시 종로구 세종대로 지하172 (세종로)',\n",
       " '서울특별시 중구 청구로 지하77 (신당동)',\n",
       " '서울특별시 성동구 금호로 지하154 (금호동2가)',\n",
       " '서울특별시 성동구 행당로 지하89 (행당동)',\n",
       " '서울특별시 성동구 마장로 지하296 (마장동)',\n",
       " '서울특별시 성동구 천호대로 지하300(용답동)',\n",
       " '서울특별시 동대문구 천호대로 지하405 (장안동)',\n",
       " '서울특별시 광진구 천호대로 지하550',\n",
       " '서울특별시 광진구 천호대로 지하657',\n",
       " '서울특별시 광진구 아차산로 지하571 (광장동)',\n",
       " '서울특별시 강동구 천호대로 지하997 (천호동)',\n",
       " '서울특별시 강동구 천호대로 지하1097 (천호동)',\n",
       " '서울특별시 강동구 양재대로 지하1480 (길동)',\n",
       " '서울특별시 강동구 양재대로 지하1572 (명일동)',\n",
       " '서울특별시 강동구 양재대로 지하1632 (명일동)',\n",
       " '서울특별시 강동구 고덕로 지하253 (고덕동)',\n",
       " '서울특별시 강동구 고덕로 지하359 (상일동)',\n",
       " '서울특별시 강동구 양재대로 지하1369 (둔촌동)',\n",
       " '서울특별시 송파구 양재대로 지하1233',\n",
       " '서울특별시 송파구 양재대로 지하1127 (방이동)',\n",
       " '서울특별시 송파구 오금로 지하402 (가락동)',\n",
       " '서울특별시 송파구 오금로 지하499 (거여동)',\n",
       " '서울특별시 송파구 마천로57길 지하7 (마천동)',\n",
       " '서울특별시 은평구 증산로 지하477 (역촌동)',\n",
       " '서울특별시 은평구 서오릉로 지하63 (녹번동)',\n",
       " '서울특별시 은평구 불광로 지하129-1 (불광동)',\n",
       " '서울특별시 은평구 연서로 지하137-1 (구산동)',\n",
       " '서울특별시 은평구 증산로 지하400 (신사동',\n",
       " '서울특별시 은평구 증산로 지하306 (증산동)',\n",
       " '서울특별시 은평구 수색로 지하175 (증산동)',\n",
       " '서울특별시 마포구 월드컵로 지하240 (성산동)',\n",
       " '서울특별시 마포구 월드컵로 지하190 (성산동)',\n",
       " '서울특별시 마포구 월드컵로 지하77 (망원동)',\n",
       " '서울특별시 마포구 독막로 지하85 (상수동)',\n",
       " '서울특별시 마포구 독막로 지하 165',\n",
       " '서울특별시 마포구 대흥로 지하 85',\n",
       " '서울특별시 용산구 백범로 지하287 (효창동)',\n",
       " '서울특별시 용산구 녹사평대로 지하195 (용산동4가)',\n",
       " '서울특별시 용산구 이태원로 지하177 (이태원동)',\n",
       " '서울특별시 용산구 이태원로 지하287 (한남동)',\n",
       " '서울특별시 중구 다산로 지하38 (신당동)',\n",
       " '서울특별시 종로구 지봉로 지하112 (창신동)',\n",
       " '서울특별시 성북구 보문로 지하116 (보문동1가)',\n",
       " '서울특별시 성북구 고려대로 지하89 (안암동5가)',\n",
       " '서울특별시 성북구 종암로 지하1 (종암동)',\n",
       " '서울특별시 성북구 월곡로 지하107 (하월곡동)',\n",
       " '서울특별시 성북구 화랑로 지하157 (상월곡동)',\n",
       " '서울특별시 성북구 화랑로 지하243 (석관동)',\n",
       " '서울특별시 노원구 화랑로 지하347-1 (월계동)',\n",
       " '서울특별시 노원구 동일로 지하992-1 (공릉동)',\n",
       " '서울특별시 노원구 화랑로 지하510',\n",
       " '서울특별시 중랑구 신내로 지하232 (신내동)',\n",
       " '서울특별시 중랑구 용마산로136길 33',\n",
       " '경기도 의정부시 동일로 121 (장암동)',\n",
       " '서울특별시 도봉구 도봉로 964-40 (도봉동)',\n",
       " '서울특별시 노원구 동일로 지하1662 (상계동)',\n",
       " '서울특별시 노원구 동일로 지하1530-1 (상계동)',\n",
       " '서울특별시 노원구 동일로 지하1308-1 (중계동)',\n",
       " '서울특별시 노원구 동일로 지하1196 (하계동)',\n",
       " '서울특별시 노원구 동일로 지하1074',\n",
       " '서울특별시 중랑구 동일로 지하901 (묵동)',\n",
       " '서울특별시 중랑구 동일로 지하797 (중화동)',\n",
       " '서울특별시 중랑구 망우로 지하 297',\n",
       " '서울특별시 중랑구 면목로 지하407(면목동 / 면목역)',\n",
       " '서울특별시 중랑구 사가정로 지하393 (면목동)',\n",
       " '서울특별시 중랑구 용마산로 지하227 (면목동)',\n",
       " '서울특별시 광진구 능동로 지하417 (중곡동)',\n",
       " '서울특별시 광진구 능동로 지하210 (화양동)',\n",
       " '서울특별시 광진구 능동로 10 (자양동)',\n",
       " '서울특별시 강남구 학동로 지하508 (청담동)',\n",
       " '서울특별시 강남구 학동로 지하346 (삼성동)',\n",
       " '서울특별시 강남구 학동로 지하180 (논현동)',\n",
       " '서울특별시 강남구 학동로 지하102(논현동)',\n",
       " '서울특별시 서초구 신반포로 지하241(잠원동)',\n",
       " '서울특별시 서초구 서초대로 지하103 (방배동)',\n",
       " '서울특별시 동작구 사당로 지하310 (사당동)',\n",
       " '서울특별시 동작구 사당로 지하218 (사당동)',\n",
       " '서울특별시 동작구 상도로 지하 378',\n",
       " '서울특별시 동작구 상도로 지하272 (상도1동)',\n",
       " '서울특별시 동작구 상도로 지하188 (상도동)',\n",
       " '서울특별시 동작구 상도로 지하76 (대방동) ',\n",
       " '서울특별시 동작구 상도로 지하2 (대방동)',\n",
       " '서울특별시 영등포구 신풍로 지하27 (신길동)',\n",
       " '서울특별시 구로구 도림로 지하7 (구로동)',\n",
       " '서울특별시 금천구 벚꽃로 309 (가산동)',\n",
       " '경기도 광명시 철산로 지하13 (철산동)',\n",
       " '경기도 광명시 오리로 지하980(광명동)',\n",
       " '서울특별시 구로구 오리로 지하1154(오류동)',\n",
       " '서울특별시 구로구 경인로3길 지하64 (온수동)',\n",
       " '경기도 부천시 길주로 626 ',\n",
       " '경기도 부천시 길주로 지하 502 ',\n",
       " '경기도 부천시 길주로 지하 406 ',\n",
       " '경기도 부천시 길주로 314 ',\n",
       " '경기도 부천시 길주로 202 ',\n",
       " '경기도 부천시 길주로 104 ',\n",
       " '인천광역시 부평구 길주로 지하713 (삼산동)',\n",
       " '인천광역시 부평구 길주로 지하623 (삼산동)',\n",
       " '인천광역시 부평구 길주로 지하527(갈산동)',\n",
       " '서울특별시 강동구 올림픽로 지하776 (암사동)',\n",
       " '서울특별시 강동구 올림픽로 지하550 (성내동)',\n",
       " '서울특별시 송파구 올림픽로 지하383',\n",
       " '서울특별시 송파구 송파대로 지하439 (석촌동)',\n",
       " '서울특별시 송파구 송파대로 지하354 (가락동)',\n",
       " '서울특별시 송파구 송파대로 지하179 (문정동)',\n",
       " '서울특별시 송파구 송파대로 지하82 (장지동)',\n",
       " '서울특별시 송파구 송파대로 지하6 (장지동)',\n",
       " '경기도 성남시 수정구 수정로 지하365(신흥동)',\n",
       " '경기도 성남시 수정구 산성대로 지하 445',\n",
       " '경기도 성남시 수정구 산성대로 지하365 (신흥동)',\n",
       " '경기도 성남시 수정구 산성대로 지하280 (신흥동)',\n",
       " '경기도 성남시 수정구 산성대로 지하200 (수진동)',\n",
       " '경기도 성남시 수정구 산성대로 지하100 (수진동)',\n",
       " '서울특별시 강남구 봉은사로 지하 201',\n",
       " '서울특별시 강남구 선릉로 지하 580',\n",
       " '서울특별시 강남구 봉은사로 지하 501',\n",
       " '서울특별시 강남구 봉은사로 지하 601',\n",
       " '서울특별시 송파구 백제고분로 187',\n",
       " '서울특별시 송파구 삼학사로 53',\n",
       " '서울특별시 송파구 오금로 165',\n",
       " '서울특별시 송파구 위례성대로 51',\n",
       " '서울특별시 송파구 강동대로 327',\n",
       " '서울특별시 강동구 명일로 117']"
      ]
     },
     "execution_count": 20,
     "metadata": {},
     "output_type": "execute_result"
    }
   ],
   "source": [
    "station_list = list(address['역주소'])\n",
    "station_list"
   ]
  },
  {
   "cell_type": "markdown",
   "id": "532d6cc5",
   "metadata": {},
   "source": [
    "## Regex 적용으로 주소 데이터 정제"
   ]
  },
  {
   "cell_type": "markdown",
   "id": "60e711f0",
   "metadata": {},
   "source": [
    "참고 사이트\n",
    "\n",
    "[Regexr.com](https://regexr.com/)"
   ]
  },
  {
   "cell_type": "code",
   "execution_count": 21,
   "id": "eb33eb69",
   "metadata": {},
   "outputs": [],
   "source": [
    "import re\n",
    "\n",
    "# Regular Expression 적용하여 ()괄호를 제거 후 추출\n",
    "pattern_string = r'.+(?=\\()'\n",
    "pattern = re.compile(pattern_string)"
   ]
  },
  {
   "cell_type": "code",
   "execution_count": 22,
   "id": "89531f22",
   "metadata": {},
   "outputs": [
    {
     "data": {
      "text/plain": [
       "'서울특별시 중구 세종대로 지하 2'"
      ]
     },
     "execution_count": 22,
     "metadata": {},
     "output_type": "execute_result"
    }
   ],
   "source": [
    "pattern.match('서울특별시 중구 세종대로 지하 2 (남대문로 5가)').group().strip()"
   ]
  },
  {
   "cell_type": "markdown",
   "id": "bb175aa8",
   "metadata": {},
   "source": [
    "## 주소 데이터 클린징"
   ]
  },
  {
   "cell_type": "code",
   "execution_count": 23,
   "id": "f58f440b",
   "metadata": {},
   "outputs": [],
   "source": [
    "def clean_address(x):\n",
    "    # 코드입력\n",
    "    "
   ]
  },
  {
   "cell_type": "markdown",
   "id": "2174c049",
   "metadata": {},
   "source": [
    "`clean_address` 적용"
   ]
  },
  {
   "cell_type": "code",
   "execution_count": 24,
   "id": "959bc78e",
   "metadata": {},
   "outputs": [
    {
     "data": {
      "text/html": [
       "<div>\n",
       "<style scoped>\n",
       "    .dataframe tbody tr th:only-of-type {\n",
       "        vertical-align: middle;\n",
       "    }\n",
       "\n",
       "    .dataframe tbody tr th {\n",
       "        vertical-align: top;\n",
       "    }\n",
       "\n",
       "    .dataframe thead th {\n",
       "        text-align: right;\n",
       "    }\n",
       "</style>\n",
       "<table border=\"1\" class=\"dataframe\">\n",
       "  <thead>\n",
       "    <tr style=\"text-align: right;\">\n",
       "      <th></th>\n",
       "      <th>연번</th>\n",
       "      <th>역번호</th>\n",
       "      <th>호선</th>\n",
       "      <th>역명</th>\n",
       "      <th>역전화번호</th>\n",
       "      <th>역주소</th>\n",
       "      <th>주소</th>\n",
       "    </tr>\n",
       "  </thead>\n",
       "  <tbody>\n",
       "    <tr>\n",
       "      <th>0</th>\n",
       "      <td>1</td>\n",
       "      <td>150</td>\n",
       "      <td>1</td>\n",
       "      <td>서울역</td>\n",
       "      <td>02-6110-1331</td>\n",
       "      <td>서울특별시 중구 세종대로 지하 2 (남대문로 5가)</td>\n",
       "      <td>서울특별시 중구 세종대로 지하 2</td>\n",
       "    </tr>\n",
       "    <tr>\n",
       "      <th>1</th>\n",
       "      <td>2</td>\n",
       "      <td>151</td>\n",
       "      <td>1</td>\n",
       "      <td>시청</td>\n",
       "      <td>02-6110-1321</td>\n",
       "      <td>서울특별시 중구 세종대로 지하 101 (정동)</td>\n",
       "      <td>서울특별시 중구 세종대로 지하 101</td>\n",
       "    </tr>\n",
       "    <tr>\n",
       "      <th>2</th>\n",
       "      <td>3</td>\n",
       "      <td>152</td>\n",
       "      <td>1</td>\n",
       "      <td>종각</td>\n",
       "      <td>02-6110-1311</td>\n",
       "      <td>서울특별시 종로구 종로 지하 55 (종로1가)</td>\n",
       "      <td>서울특별시 종로구 종로 지하 55</td>\n",
       "    </tr>\n",
       "    <tr>\n",
       "      <th>3</th>\n",
       "      <td>4</td>\n",
       "      <td>153</td>\n",
       "      <td>1</td>\n",
       "      <td>종로3가</td>\n",
       "      <td>02-6110-1301</td>\n",
       "      <td>서울특별시 종로구 종로 지하 129 (종로3가)</td>\n",
       "      <td>서울특별시 종로구 종로 지하 129</td>\n",
       "    </tr>\n",
       "    <tr>\n",
       "      <th>4</th>\n",
       "      <td>5</td>\n",
       "      <td>154</td>\n",
       "      <td>1</td>\n",
       "      <td>종로5가</td>\n",
       "      <td>02-6110-1291</td>\n",
       "      <td>서울특별시 종로구 종로 지하 216  (종로5가)</td>\n",
       "      <td>서울특별시 종로구 종로 지하 216</td>\n",
       "    </tr>\n",
       "  </tbody>\n",
       "</table>\n",
       "</div>"
      ],
      "text/plain": [
       "   연번  역번호  호선    역명         역전화번호                           역주소  \\\n",
       "0   1  150   1   서울역  02-6110-1331  서울특별시 중구 세종대로 지하 2 (남대문로 5가)   \n",
       "1   2  151   1    시청  02-6110-1321     서울특별시 중구 세종대로 지하 101 (정동)   \n",
       "2   3  152   1    종각  02-6110-1311     서울특별시 종로구 종로 지하 55 (종로1가)   \n",
       "3   4  153   1  종로3가  02-6110-1301    서울특별시 종로구 종로 지하 129 (종로3가)   \n",
       "4   5  154   1  종로5가  02-6110-1291   서울특별시 종로구 종로 지하 216  (종로5가)   \n",
       "\n",
       "                     주소  \n",
       "0    서울특별시 중구 세종대로 지하 2  \n",
       "1  서울특별시 중구 세종대로 지하 101  \n",
       "2    서울특별시 종로구 종로 지하 55  \n",
       "3   서울특별시 종로구 종로 지하 129  \n",
       "4   서울특별시 종로구 종로 지하 216  "
      ]
     },
     "execution_count": 24,
     "metadata": {},
     "output_type": "execute_result"
    }
   ],
   "source": [
    "# 코드입력\n",
    "address['주소'] = \n",
    "address.head()"
   ]
  },
  {
   "cell_type": "markdown",
   "id": "ddc7fc24",
   "metadata": {},
   "source": [
    "### geocode 변환 및 위/경도 데이터 생성"
   ]
  },
  {
   "cell_type": "markdown",
   "id": "d8195a01",
   "metadata": {},
   "source": [
    "geocode 변환 함수화"
   ]
  },
  {
   "cell_type": "code",
   "execution_count": 25,
   "id": "3358c20d",
   "metadata": {},
   "outputs": [],
   "source": [
    "def geocode(x):\n",
    "    # 코드입력\n",
    "    "
   ]
  },
  {
   "cell_type": "markdown",
   "id": "b45835c4",
   "metadata": {},
   "source": [
    "샘플 데이터 변환"
   ]
  },
  {
   "cell_type": "code",
   "execution_count": 26,
   "id": "f48228fa",
   "metadata": {},
   "outputs": [
    {
     "name": "stdout",
     "output_type": "stream",
     "text": [
      "서울특별시 중구 세종대로 지하 101 (정동)\n"
     ]
    },
    {
     "data": {
      "text/plain": [
       "(37.5665684, 126.9728716)"
      ]
     },
     "execution_count": 26,
     "metadata": {},
     "output_type": "execute_result"
    }
   ],
   "source": [
    "print(station_list[1])\n",
    "geocode(station_list[1])"
   ]
  },
  {
   "cell_type": "markdown",
   "id": "a7a4ecbf",
   "metadata": {},
   "source": [
    "위경도 좌표계로 변환합니다. (tuple 형식으로 반환)"
   ]
  },
  {
   "cell_type": "code",
   "execution_count": 27,
   "id": "82c33a7c",
   "metadata": {},
   "outputs": [],
   "source": [
    "# 코드입력\n",
    "address['위경도'] = "
   ]
  },
  {
   "cell_type": "markdown",
   "id": "a859a5f9",
   "metadata": {},
   "source": [
    "위경도로 변환되지 않는 값 확인(결측치 확인)"
   ]
  },
  {
   "cell_type": "code",
   "execution_count": 28,
   "id": "d8645a57",
   "metadata": {},
   "outputs": [
    {
     "data": {
      "text/html": [
       "<div>\n",
       "<style scoped>\n",
       "    .dataframe tbody tr th:only-of-type {\n",
       "        vertical-align: middle;\n",
       "    }\n",
       "\n",
       "    .dataframe tbody tr th {\n",
       "        vertical-align: top;\n",
       "    }\n",
       "\n",
       "    .dataframe thead th {\n",
       "        text-align: right;\n",
       "    }\n",
       "</style>\n",
       "<table border=\"1\" class=\"dataframe\">\n",
       "  <thead>\n",
       "    <tr style=\"text-align: right;\">\n",
       "      <th></th>\n",
       "      <th>연번</th>\n",
       "      <th>역번호</th>\n",
       "      <th>호선</th>\n",
       "      <th>역명</th>\n",
       "      <th>역전화번호</th>\n",
       "      <th>역주소</th>\n",
       "      <th>주소</th>\n",
       "      <th>위경도</th>\n",
       "    </tr>\n",
       "  </thead>\n",
       "  <tbody>\n",
       "  </tbody>\n",
       "</table>\n",
       "</div>"
      ],
      "text/plain": [
       "Empty DataFrame\n",
       "Columns: [연번, 역번호, 호선, 역명, 역전화번호, 역주소, 주소, 위경도]\n",
       "Index: []"
      ]
     },
     "execution_count": 28,
     "metadata": {},
     "output_type": "execute_result"
    }
   ],
   "source": [
    "address.loc[address['위경도'].isnull()]"
   ]
  },
  {
   "cell_type": "code",
   "execution_count": 29,
   "id": "e64a0a65",
   "metadata": {},
   "outputs": [
    {
     "name": "stdout",
     "output_type": "stream",
     "text": [
      "<class 'pandas.core.frame.DataFrame'>\n",
      "Int64Index: 253 entries, 0 to 291\n",
      "Data columns (total 8 columns):\n",
      " #   Column  Non-Null Count  Dtype \n",
      "---  ------  --------------  ----- \n",
      " 0   연번      253 non-null    int64 \n",
      " 1   역번호     253 non-null    int64 \n",
      " 2   호선      253 non-null    int64 \n",
      " 3   역명      253 non-null    object\n",
      " 4   역전화번호   253 non-null    object\n",
      " 5   역주소     253 non-null    object\n",
      " 6   주소      253 non-null    object\n",
      " 7   위경도     253 non-null    object\n",
      "dtypes: int64(3), object(5)\n",
      "memory usage: 25.9+ KB\n"
     ]
    }
   ],
   "source": [
    "address.info()"
   ]
  },
  {
   "cell_type": "markdown",
   "id": "f9474dde",
   "metadata": {},
   "source": [
    "`lat`와 `lng` 컬럼 생성 후 위경도 데이터 분리하여 대입"
   ]
  },
  {
   "cell_type": "code",
   "execution_count": 30,
   "id": "97d201f7",
   "metadata": {},
   "outputs": [],
   "source": [
    "# 코드입력\n",
    "address['lat'] = \n",
    "address['lng'] = "
   ]
  },
  {
   "cell_type": "code",
   "execution_count": 31,
   "id": "805923cf",
   "metadata": {},
   "outputs": [
    {
     "data": {
      "text/html": [
       "<div>\n",
       "<style scoped>\n",
       "    .dataframe tbody tr th:only-of-type {\n",
       "        vertical-align: middle;\n",
       "    }\n",
       "\n",
       "    .dataframe tbody tr th {\n",
       "        vertical-align: top;\n",
       "    }\n",
       "\n",
       "    .dataframe thead th {\n",
       "        text-align: right;\n",
       "    }\n",
       "</style>\n",
       "<table border=\"1\" class=\"dataframe\">\n",
       "  <thead>\n",
       "    <tr style=\"text-align: right;\">\n",
       "      <th></th>\n",
       "      <th>연번</th>\n",
       "      <th>역번호</th>\n",
       "      <th>호선</th>\n",
       "      <th>역명</th>\n",
       "      <th>역전화번호</th>\n",
       "      <th>역주소</th>\n",
       "      <th>주소</th>\n",
       "      <th>위경도</th>\n",
       "      <th>lat</th>\n",
       "      <th>lng</th>\n",
       "    </tr>\n",
       "  </thead>\n",
       "  <tbody>\n",
       "    <tr>\n",
       "      <th>0</th>\n",
       "      <td>1</td>\n",
       "      <td>150</td>\n",
       "      <td>1</td>\n",
       "      <td>서울역</td>\n",
       "      <td>02-6110-1331</td>\n",
       "      <td>서울특별시 중구 세종대로 지하 2 (남대문로 5가)</td>\n",
       "      <td>서울특별시 중구 세종대로 지하 2</td>\n",
       "      <td>(37.5641186, 126.9768084)</td>\n",
       "      <td>37.564119</td>\n",
       "      <td>126.976808</td>\n",
       "    </tr>\n",
       "    <tr>\n",
       "      <th>1</th>\n",
       "      <td>2</td>\n",
       "      <td>151</td>\n",
       "      <td>1</td>\n",
       "      <td>시청</td>\n",
       "      <td>02-6110-1321</td>\n",
       "      <td>서울특별시 중구 세종대로 지하 101 (정동)</td>\n",
       "      <td>서울특별시 중구 세종대로 지하 101</td>\n",
       "      <td>(37.5657037, 126.9768616)</td>\n",
       "      <td>37.565704</td>\n",
       "      <td>126.976862</td>\n",
       "    </tr>\n",
       "    <tr>\n",
       "      <th>2</th>\n",
       "      <td>3</td>\n",
       "      <td>152</td>\n",
       "      <td>1</td>\n",
       "      <td>종각</td>\n",
       "      <td>02-6110-1311</td>\n",
       "      <td>서울특별시 종로구 종로 지하 55 (종로1가)</td>\n",
       "      <td>서울특별시 종로구 종로 지하 55</td>\n",
       "      <td>(37.570169, 126.983099)</td>\n",
       "      <td>37.570169</td>\n",
       "      <td>126.983099</td>\n",
       "    </tr>\n",
       "    <tr>\n",
       "      <th>3</th>\n",
       "      <td>4</td>\n",
       "      <td>153</td>\n",
       "      <td>1</td>\n",
       "      <td>종로3가</td>\n",
       "      <td>02-6110-1301</td>\n",
       "      <td>서울특별시 종로구 종로 지하 129 (종로3가)</td>\n",
       "      <td>서울특별시 종로구 종로 지하 129</td>\n",
       "      <td>(37.5703709, 126.9910053)</td>\n",
       "      <td>37.570371</td>\n",
       "      <td>126.991005</td>\n",
       "    </tr>\n",
       "    <tr>\n",
       "      <th>4</th>\n",
       "      <td>5</td>\n",
       "      <td>154</td>\n",
       "      <td>1</td>\n",
       "      <td>종로5가</td>\n",
       "      <td>02-6110-1291</td>\n",
       "      <td>서울특별시 종로구 종로 지하 216  (종로5가)</td>\n",
       "      <td>서울특별시 종로구 종로 지하 216</td>\n",
       "      <td>(37.5597851, 126.9709861)</td>\n",
       "      <td>37.559785</td>\n",
       "      <td>126.970986</td>\n",
       "    </tr>\n",
       "  </tbody>\n",
       "</table>\n",
       "</div>"
      ],
      "text/plain": [
       "   연번  역번호  호선    역명         역전화번호                           역주소  \\\n",
       "0   1  150   1   서울역  02-6110-1331  서울특별시 중구 세종대로 지하 2 (남대문로 5가)   \n",
       "1   2  151   1    시청  02-6110-1321     서울특별시 중구 세종대로 지하 101 (정동)   \n",
       "2   3  152   1    종각  02-6110-1311     서울특별시 종로구 종로 지하 55 (종로1가)   \n",
       "3   4  153   1  종로3가  02-6110-1301    서울특별시 종로구 종로 지하 129 (종로3가)   \n",
       "4   5  154   1  종로5가  02-6110-1291   서울특별시 종로구 종로 지하 216  (종로5가)   \n",
       "\n",
       "                     주소                        위경도        lat         lng  \n",
       "0    서울특별시 중구 세종대로 지하 2  (37.5641186, 126.9768084)  37.564119  126.976808  \n",
       "1  서울특별시 중구 세종대로 지하 101  (37.5657037, 126.9768616)  37.565704  126.976862  \n",
       "2    서울특별시 종로구 종로 지하 55    (37.570169, 126.983099)  37.570169  126.983099  \n",
       "3   서울특별시 종로구 종로 지하 129  (37.5703709, 126.9910053)  37.570371  126.991005  \n",
       "4   서울특별시 종로구 종로 지하 216  (37.5597851, 126.9709861)  37.559785  126.970986  "
      ]
     },
     "execution_count": 31,
     "metadata": {},
     "output_type": "execute_result"
    }
   ],
   "source": [
    "address.head()"
   ]
  },
  {
   "cell_type": "code",
   "execution_count": 32,
   "id": "1bed8a6d",
   "metadata": {},
   "outputs": [
    {
     "data": {
      "text/html": [
       "<div>\n",
       "<style scoped>\n",
       "    .dataframe tbody tr th:only-of-type {\n",
       "        vertical-align: middle;\n",
       "    }\n",
       "\n",
       "    .dataframe tbody tr th {\n",
       "        vertical-align: top;\n",
       "    }\n",
       "\n",
       "    .dataframe thead th {\n",
       "        text-align: right;\n",
       "    }\n",
       "</style>\n",
       "<table border=\"1\" class=\"dataframe\">\n",
       "  <thead>\n",
       "    <tr style=\"text-align: right;\">\n",
       "      <th></th>\n",
       "      <th>호선</th>\n",
       "      <th>역명</th>\n",
       "      <th>lat</th>\n",
       "      <th>lng</th>\n",
       "      <th>주소</th>\n",
       "      <th>역번호</th>\n",
       "    </tr>\n",
       "  </thead>\n",
       "  <tbody>\n",
       "    <tr>\n",
       "      <th>0</th>\n",
       "      <td>1</td>\n",
       "      <td>서울역</td>\n",
       "      <td>37.564119</td>\n",
       "      <td>126.976808</td>\n",
       "      <td>서울특별시 중구 세종대로 지하 2</td>\n",
       "      <td>150</td>\n",
       "    </tr>\n",
       "    <tr>\n",
       "      <th>1</th>\n",
       "      <td>1</td>\n",
       "      <td>시청</td>\n",
       "      <td>37.565704</td>\n",
       "      <td>126.976862</td>\n",
       "      <td>서울특별시 중구 세종대로 지하 101</td>\n",
       "      <td>151</td>\n",
       "    </tr>\n",
       "    <tr>\n",
       "      <th>2</th>\n",
       "      <td>1</td>\n",
       "      <td>종각</td>\n",
       "      <td>37.570169</td>\n",
       "      <td>126.983099</td>\n",
       "      <td>서울특별시 종로구 종로 지하 55</td>\n",
       "      <td>152</td>\n",
       "    </tr>\n",
       "    <tr>\n",
       "      <th>3</th>\n",
       "      <td>1</td>\n",
       "      <td>종로3가</td>\n",
       "      <td>37.570371</td>\n",
       "      <td>126.991005</td>\n",
       "      <td>서울특별시 종로구 종로 지하 129</td>\n",
       "      <td>153</td>\n",
       "    </tr>\n",
       "    <tr>\n",
       "      <th>4</th>\n",
       "      <td>1</td>\n",
       "      <td>종로5가</td>\n",
       "      <td>37.559785</td>\n",
       "      <td>126.970986</td>\n",
       "      <td>서울특별시 종로구 종로 지하 216</td>\n",
       "      <td>154</td>\n",
       "    </tr>\n",
       "    <tr>\n",
       "      <th>...</th>\n",
       "      <td>...</td>\n",
       "      <td>...</td>\n",
       "      <td>...</td>\n",
       "      <td>...</td>\n",
       "      <td>...</td>\n",
       "      <td>...</td>\n",
       "    </tr>\n",
       "    <tr>\n",
       "      <th>285</th>\n",
       "      <td>9</td>\n",
       "      <td>석촌고분</td>\n",
       "      <td>37.501983</td>\n",
       "      <td>127.096596</td>\n",
       "      <td>서울특별시 송파구 삼학사로 53</td>\n",
       "      <td>4132</td>\n",
       "    </tr>\n",
       "    <tr>\n",
       "      <th>287</th>\n",
       "      <td>9</td>\n",
       "      <td>송파나루</td>\n",
       "      <td>37.510080</td>\n",
       "      <td>127.113112</td>\n",
       "      <td>서울특별시 송파구 오금로 165</td>\n",
       "      <td>4134</td>\n",
       "    </tr>\n",
       "    <tr>\n",
       "      <th>288</th>\n",
       "      <td>9</td>\n",
       "      <td>한성백제</td>\n",
       "      <td>37.516359</td>\n",
       "      <td>127.113315</td>\n",
       "      <td>서울특별시 송파구 위례성대로 51</td>\n",
       "      <td>4135</td>\n",
       "    </tr>\n",
       "    <tr>\n",
       "      <th>290</th>\n",
       "      <td>9</td>\n",
       "      <td>둔촌오륜</td>\n",
       "      <td>37.524990</td>\n",
       "      <td>127.120881</td>\n",
       "      <td>서울특별시 송파구 강동대로 327</td>\n",
       "      <td>4137</td>\n",
       "    </tr>\n",
       "    <tr>\n",
       "      <th>291</th>\n",
       "      <td>9</td>\n",
       "      <td>중앙보훈병원</td>\n",
       "      <td>37.529317</td>\n",
       "      <td>127.142437</td>\n",
       "      <td>서울특별시 강동구 명일로 117</td>\n",
       "      <td>4138</td>\n",
       "    </tr>\n",
       "  </tbody>\n",
       "</table>\n",
       "<p>253 rows × 6 columns</p>\n",
       "</div>"
      ],
      "text/plain": [
       "     호선      역명        lat         lng                    주소   역번호\n",
       "0     1     서울역  37.564119  126.976808    서울특별시 중구 세종대로 지하 2   150\n",
       "1     1      시청  37.565704  126.976862  서울특별시 중구 세종대로 지하 101   151\n",
       "2     1      종각  37.570169  126.983099    서울특별시 종로구 종로 지하 55   152\n",
       "3     1    종로3가  37.570371  126.991005   서울특별시 종로구 종로 지하 129   153\n",
       "4     1    종로5가  37.559785  126.970986   서울특별시 종로구 종로 지하 216   154\n",
       "..   ..     ...        ...         ...                   ...   ...\n",
       "285   9    석촌고분  37.501983  127.096596     서울특별시 송파구 삼학사로 53  4132\n",
       "287   9    송파나루  37.510080  127.113112     서울특별시 송파구 오금로 165  4134\n",
       "288   9    한성백제  37.516359  127.113315    서울특별시 송파구 위례성대로 51  4135\n",
       "290   9    둔촌오륜  37.524990  127.120881    서울특별시 송파구 강동대로 327  4137\n",
       "291   9  중앙보훈병원  37.529317  127.142437     서울특별시 강동구 명일로 117  4138\n",
       "\n",
       "[253 rows x 6 columns]"
      ]
     },
     "execution_count": 32,
     "metadata": {},
     "output_type": "execute_result"
    }
   ],
   "source": [
    "address[['호선', '역명', 'lat', 'lng', '주소', '역번호']]"
   ]
  },
  {
   "cell_type": "markdown",
   "id": "a99cba2a",
   "metadata": {},
   "source": [
    "## 파일로 변환 (.csv로 내보내기)"
   ]
  },
  {
   "cell_type": "code",
   "execution_count": 33,
   "id": "7b0a7206",
   "metadata": {},
   "outputs": [],
   "source": [
    "address[['호선', '역명', 'lat', 'lng', '주소', '역번호']].to_csv('seoul_station_geocode.csv', index=False)"
   ]
  },
  {
   "cell_type": "code",
   "execution_count": 34,
   "id": "b9ad383d",
   "metadata": {},
   "outputs": [
    {
     "data": {
      "text/html": [
       "<div>\n",
       "<style scoped>\n",
       "    .dataframe tbody tr th:only-of-type {\n",
       "        vertical-align: middle;\n",
       "    }\n",
       "\n",
       "    .dataframe tbody tr th {\n",
       "        vertical-align: top;\n",
       "    }\n",
       "\n",
       "    .dataframe thead th {\n",
       "        text-align: right;\n",
       "    }\n",
       "</style>\n",
       "<table border=\"1\" class=\"dataframe\">\n",
       "  <thead>\n",
       "    <tr style=\"text-align: right;\">\n",
       "      <th></th>\n",
       "      <th>호선</th>\n",
       "      <th>역명</th>\n",
       "      <th>lat</th>\n",
       "      <th>lng</th>\n",
       "      <th>주소</th>\n",
       "      <th>역번호</th>\n",
       "    </tr>\n",
       "  </thead>\n",
       "  <tbody>\n",
       "    <tr>\n",
       "      <th>0</th>\n",
       "      <td>1</td>\n",
       "      <td>서울역</td>\n",
       "      <td>37.564119</td>\n",
       "      <td>126.976808</td>\n",
       "      <td>서울특별시 중구 세종대로 지하 2</td>\n",
       "      <td>150</td>\n",
       "    </tr>\n",
       "    <tr>\n",
       "      <th>1</th>\n",
       "      <td>1</td>\n",
       "      <td>시청</td>\n",
       "      <td>37.565704</td>\n",
       "      <td>126.976862</td>\n",
       "      <td>서울특별시 중구 세종대로 지하 101</td>\n",
       "      <td>151</td>\n",
       "    </tr>\n",
       "    <tr>\n",
       "      <th>2</th>\n",
       "      <td>1</td>\n",
       "      <td>종각</td>\n",
       "      <td>37.570169</td>\n",
       "      <td>126.983099</td>\n",
       "      <td>서울특별시 종로구 종로 지하 55</td>\n",
       "      <td>152</td>\n",
       "    </tr>\n",
       "    <tr>\n",
       "      <th>3</th>\n",
       "      <td>1</td>\n",
       "      <td>종로3가</td>\n",
       "      <td>37.570436</td>\n",
       "      <td>126.992148</td>\n",
       "      <td>서울특별시 종로구 종로 지하 129</td>\n",
       "      <td>153</td>\n",
       "    </tr>\n",
       "    <tr>\n",
       "      <th>4</th>\n",
       "      <td>1</td>\n",
       "      <td>종로5가</td>\n",
       "      <td>37.572590</td>\n",
       "      <td>126.999912</td>\n",
       "      <td>서울특별시 종로구 종로 지하 216</td>\n",
       "      <td>154</td>\n",
       "    </tr>\n",
       "    <tr>\n",
       "      <th>...</th>\n",
       "      <td>...</td>\n",
       "      <td>...</td>\n",
       "      <td>...</td>\n",
       "      <td>...</td>\n",
       "      <td>...</td>\n",
       "      <td>...</td>\n",
       "    </tr>\n",
       "    <tr>\n",
       "      <th>248</th>\n",
       "      <td>9</td>\n",
       "      <td>석촌고분</td>\n",
       "      <td>37.501983</td>\n",
       "      <td>127.096596</td>\n",
       "      <td>서울특별시 송파구 삼학사로 53</td>\n",
       "      <td>4132</td>\n",
       "    </tr>\n",
       "    <tr>\n",
       "      <th>249</th>\n",
       "      <td>9</td>\n",
       "      <td>송파나루</td>\n",
       "      <td>37.510080</td>\n",
       "      <td>127.113112</td>\n",
       "      <td>서울특별시 송파구 오금로 165</td>\n",
       "      <td>4134</td>\n",
       "    </tr>\n",
       "    <tr>\n",
       "      <th>250</th>\n",
       "      <td>9</td>\n",
       "      <td>한성백제</td>\n",
       "      <td>37.516317</td>\n",
       "      <td>127.113520</td>\n",
       "      <td>서울특별시 송파구 위례성대로 51</td>\n",
       "      <td>4135</td>\n",
       "    </tr>\n",
       "    <tr>\n",
       "      <th>251</th>\n",
       "      <td>9</td>\n",
       "      <td>둔촌오륜</td>\n",
       "      <td>37.524990</td>\n",
       "      <td>127.120881</td>\n",
       "      <td>서울특별시 송파구 강동대로 327</td>\n",
       "      <td>4137</td>\n",
       "    </tr>\n",
       "    <tr>\n",
       "      <th>252</th>\n",
       "      <td>9</td>\n",
       "      <td>중앙보훈병원</td>\n",
       "      <td>37.529317</td>\n",
       "      <td>127.142437</td>\n",
       "      <td>서울특별시 강동구 명일로 117</td>\n",
       "      <td>4138</td>\n",
       "    </tr>\n",
       "  </tbody>\n",
       "</table>\n",
       "<p>253 rows × 6 columns</p>\n",
       "</div>"
      ],
      "text/plain": [
       "     호선      역명        lat         lng                    주소   역번호\n",
       "0     1     서울역  37.564119  126.976808    서울특별시 중구 세종대로 지하 2   150\n",
       "1     1      시청  37.565704  126.976862  서울특별시 중구 세종대로 지하 101   151\n",
       "2     1      종각  37.570169  126.983099    서울특별시 종로구 종로 지하 55   152\n",
       "3     1    종로3가  37.570436  126.992148   서울특별시 종로구 종로 지하 129   153\n",
       "4     1    종로5가  37.572590  126.999912   서울특별시 종로구 종로 지하 216   154\n",
       "..   ..     ...        ...         ...                   ...   ...\n",
       "248   9    석촌고분  37.501983  127.096596     서울특별시 송파구 삼학사로 53  4132\n",
       "249   9    송파나루  37.510080  127.113112     서울특별시 송파구 오금로 165  4134\n",
       "250   9    한성백제  37.516317  127.113520    서울특별시 송파구 위례성대로 51  4135\n",
       "251   9    둔촌오륜  37.524990  127.120881    서울특별시 송파구 강동대로 327  4137\n",
       "252   9  중앙보훈병원  37.529317  127.142437     서울특별시 강동구 명일로 117  4138\n",
       "\n",
       "[253 rows x 6 columns]"
      ]
     },
     "execution_count": 34,
     "metadata": {},
     "output_type": "execute_result"
    }
   ],
   "source": [
    "pd.read_csv('https://raw.githubusercontent.com/teddylee777/teddylee777.github.io/gh-pages/assets/files/seoul_station_geocode.csv')"
   ]
  }
 ],
 "metadata": {
  "kernelspec": {
   "display_name": "Python 3",
   "language": "python",
   "name": "python3"
  },
  "language_info": {
   "codemirror_mode": {
    "name": "ipython",
    "version": 3
   },
   "file_extension": ".py",
   "mimetype": "text/x-python",
   "name": "python",
   "nbconvert_exporter": "python",
   "pygments_lexer": "ipython3",
   "version": "3.7.10"
  }
 },
 "nbformat": 4,
 "nbformat_minor": 5
}
